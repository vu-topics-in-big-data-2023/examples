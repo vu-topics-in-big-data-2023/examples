{
  "nbformat": 4,
  "nbformat_minor": 0,
  "metadata": {
    "colab": {
      "name": "Example_Infra_ AWS_MySql.ipynb",
      "provenance": [],
      "collapsed_sections": []
    },
    "kernelspec": {
      "name": "python3",
      "display_name": "Python 3"
    }
  },
  "cells": [
	{
      "cell_type": "markdown",
      "metadata": {
        "id": "view-in-github",
        "colab_type": "text"
      },
      "source": [
        "<a href=\"https://colab.research.google.com/github/vu-bigdata-2022/example-notebooks/blob/master/infrastructure/example_infra_mysql.ipynb\" target=\"_parent\"><img src=\"https://colab.research.google.com/assets/colab-badge.svg\" alt=\"Open In Colab\"/></a>"
      ]
    },
    {
      "cell_type": "markdown",
      "metadata": {
        "id": "5whYIScWPK7Y"
      },
      "source": [
        "# MySql infrastructure connection example\n",
        "\n",
        "This example will show you how to install MySql on AWS, load data into the MySql and then connect to it from a jupyter notebook running on google colab. \n",
        "\n",
        "After this instruction is complete you should be able to load bigger datasets as well.\n",
        "\n",
        "Prerequisite:\n",
        "\n",
        "1.   We expect that you have received EC2 invitation from the Topics in Big data class and you have accepted the invitation. Refer to the next section to learn how to create an RDS instance\n",
        "\n",
        "**Caution:Remember to shut down the AWS instances when not in use to make the best use of your free credits. And, don't forget to logout once you are done with your work!**"
      ]
    },
    {
      "cell_type": "markdown",
      "metadata": {
        "id": "q077XkZHe5df"
      },
      "source": [
        "#MySql RDS instance creation\n",
        "\n",
        "Please refer to the step by step instruction given in the amazon link below -\n",
        "\n",
        "    https://aws.amazon.com/getting-started/tutorials/create-mysql-db/\n",
        "    \n",
        "\n",
        "  please follow the default setup instructions and download the  Download MySQL Workbench page as mentioned in the link above.\n",
        "\n",
        "\n",
        "PS: Please install the MS Visual studion C++ 2015 redistributable required for MySql Workbench in the below link:\n",
        "\n",
        "    https://www.microsoft.com/en-us/download/details.aspx?id=48145\n",
        "\n"
      ]
    },
    {
      "cell_type": "markdown",
      "source": [
        "# Troubleshooting connections\n",
        "\n",
        "If you are having trouble connecting to your database, then consider double-checking these points:\n",
        "\n",
        "1. Make sure that your database is up and ready. Go to your RDS dashboard and check if the database shows that its 'available'. If you have just created the database, then give it a few minutes to get up and running.\n",
        "\n",
        "2. Make sure that you have copied the correct endpoint url and port from the RDS dashboard and that you are using them correctly (maybe you forgot to update the port number in your mysql client?).\n",
        "\n",
        "3. Make sure that your *security-group* allows appropriate inbound connections. While it's a generally bad idea to accept connections from non-explicit sources, it's fine while you are learning to just allow all inbound traffic in your security group.\n",
        "\n",
        "4. Make sure you are using the correct username and password to connect to your database.\n",
        "\n",
        "5. Read the errors, they'll generally be able to tell you what's wrong (maybe you are using a wrong database?)."
      ],
      "metadata": {
        "id": "6tiGQoDEl0Gs"
      }
    },
    {
      "cell_type": "markdown",
      "metadata": {
        "id": "cRA1fNkpgijo"
      },
      "source": [
        "#Loading the data into MySql\n",
        "\n",
        "1.Load the lahman data into mysql  from\n",
        "    http://www.seanlahman.com/files/database/\n",
        "\n",
        "PS:Use the lahman_sql_2015 data \n",
        "\n",
        "2.Using MySql workbench load the lahman_2014beta.sql script to load the\n",
        "\n",
        "\n",
        "\n",
        " data into MySql- \n",
        "\n",
        "![alt text](https://drive.google.com/uc?id=1o7ugFddzChS-ariA2xEFpz6FmUF9TS1L)"
      ]
    },
    {
      "cell_type": "markdown",
      "source": [
        "# Alternative way to load the data.\n",
        "\n",
        "If, for some reason, you were unable to use the methods above to load the sql data to your RDS, then the script below will do that for you. Only use this if you were not unable to do so yourself using the mysql client of your preference."
      ],
      "metadata": {
        "id": "POWX3MkXnGRd"
      }
    },
    {
      "cell_type": "code",
      "source": [
        "# ########### CHANGE THESE TO YOUR OWN BEFORE RUNNING !\n",
        "# ENDPOINT='database-1.ca5hwuogfiem.us-east-1.rds.amazonaws.com'\n",
        "# PORT=3306\n",
        "# USER='admin'\n",
        "# PASSWORD='adminadmin'\n",
        "\n",
        "# ############### Let's download the SQL data and unpack it.\n",
        "# !wget http://www.seanlahman.com/files/database/lahman-sql_2015-01-24.zip\n",
        "# !unzip lahman-sql_2015-01-24\n",
        "\n",
        "# !pip install pymysql\n",
        "# ### tqdm is used for the progress bar. It's a pretty nifty library to get familiar with \n",
        "# ### if you use python often.\n",
        "# !pip install tqdm\n",
        "\n",
        "# from tqdm import tqdm\n",
        "# import pymysql\n",
        "\n",
        "# conn = pymysql.connect(\n",
        "#               user=USER,\n",
        "#               password=PASSWORD,\n",
        "#               host=ENDPOINT,\n",
        "#               port=PORT,\n",
        "#               # database='database-1'\n",
        "#           )\n",
        "# cursor = conn.cursor()\n",
        "# cursor.execute('create database if not exists lahman;')\n",
        "# cursor.execute('use lahman;')\n",
        "# sql = open('lahman2014_beta.sql').read()\n",
        "\n",
        "# for stmt in tqdm(sql.split(';')):\n",
        "#   try:\n",
        "#     cursor.execute(stmt)\n",
        "#   except Exception:\n",
        "#     ### Don't do this in productions. Since this is just a POC, it's fine for now.\n",
        "#     continue\n",
        "# print(\"DONE !!\")"
      ],
      "metadata": {
        "id": "h4dVKy8XpB1e",
        "outputId": "99c9df3c-4171-42b0-90e7-8498cded578d",
        "colab": {
          "base_uri": "https://localhost:8080/"
        }
      },
      "execution_count": 1,
      "outputs": [
        {
          "output_type": "stream",
          "name": "stdout",
          "text": [
            "--2022-01-16 21:36:31--  http://www.seanlahman.com/files/database/lahman-sql_2015-01-24.zip\n",
            "Resolving www.seanlahman.com (www.seanlahman.com)... 69.163.161.183\n",
            "Connecting to www.seanlahman.com (www.seanlahman.com)|69.163.161.183|:80... connected.\n",
            "HTTP request sent, awaiting response... 200 OK\n",
            "Length: 8897003 (8.5M) [application/zip]\n",
            "Saving to: ‘lahman-sql_2015-01-24.zip’\n",
            "\n",
            "lahman-sql_2015-01- 100%[===================>]   8.48M  12.2MB/s    in 0.7s    \n",
            "\n",
            "2022-01-16 21:36:32 (12.2 MB/s) - ‘lahman-sql_2015-01-24.zip’ saved [8897003/8897003]\n",
            "\n",
            "Archive:  lahman-sql_2015-01-24.zip\n",
            "  inflating: lahman2014_beta.sql     \n",
            "  inflating: readme2014.txt          \n",
            "Collecting pymysql\n",
            "  Downloading PyMySQL-1.0.2-py3-none-any.whl (43 kB)\n",
            "\u001b[K     |████████████████████████████████| 43 kB 627 kB/s \n",
            "\u001b[?25hInstalling collected packages: pymysql\n",
            "Successfully installed pymysql-1.0.2\n",
            "Requirement already satisfied: tqdm in /usr/local/lib/python3.7/dist-packages (4.62.3)\n"
          ]
        },
        {
          "output_type": "stream",
          "name": "stderr",
          "text": [
            "100%|██████████| 114/114 [00:17<00:00,  6.40it/s]"
          ]
        },
        {
          "output_type": "stream",
          "name": "stdout",
          "text": [
            "DONE !!\n"
          ]
        },
        {
          "output_type": "stream",
          "name": "stderr",
          "text": [
            "\n"
          ]
        }
      ]
    },
    {
      "cell_type": "markdown",
      "metadata": {
        "id": "5H-b5Etam3yt"
      },
      "source": [
        ":#Running the python code to connect to AWS MySql:\n",
        "\n",
        "Run the Example_Infra+AWS_MySql.ipynb \n"
      ]
    },
    {
      "cell_type": "code",
      "metadata": {
        "id": "oG1uvqP0pMdX",
        "outputId": "7e13fb8f-eb93-412f-a372-d57371fbec3c",
        "colab": {
          "base_uri": "https://localhost:8080/"
        }
      },
      "source": [
        "!pip install pymysql"
      ],
      "execution_count": 2,
      "outputs": [
        {
          "output_type": "stream",
          "name": "stdout",
          "text": [
            "Requirement already satisfied: pymysql in /usr/local/lib/python3.7/dist-packages (1.0.2)\n"
          ]
        }
      ]
    },
    {
      "cell_type": "markdown",
      "metadata": {
        "id": "VS730iRinYVs"
      },
      "source": [
        "# DB class\n",
        "\n",
        "DB class which connects to the AWS MySql server"
      ]
    },
    {
      "cell_type": "code",
      "metadata": {
        "id": "7GToG6vA9d41"
      },
      "source": [
        "import pymysql\n",
        "\n",
        "### CHANGE THESE VALUES TO YOUR OWN !\n",
        "ENDPOINT='database-1.ca5hwuogfiem.us-east-1.rds.amazonaws.com'\n",
        "PORT=3306    #make sure that this is int i.e. without quotes.\n",
        "USER='admin'\n",
        "PASSWORD='adminadmin'\n",
        "\n",
        "class DB:\n",
        "    def __init__(self):\n",
        "        try:\n",
        "          self.conn = pymysql.connect(\n",
        "              user=USER,\n",
        "              password=PASSWORD,\n",
        "              host=ENDPOINT,\n",
        "              port=PORT,\n",
        "              # database='database-1'\n",
        "          )\n",
        "\n",
        "        except Exception as e:\n",
        "            print(\"I am unable to connect to the database - bye \" + str(e))\n",
        "            # exit()\n",
        "            return\n",
        "        print('Got a DB connection!- hurray')\n",
        "        self.cur = self.conn.cursor()\n",
        "\n",
        "    def cursor(self):\n",
        "        return self.cur\n",
        "\n",
        "    def getNewCursor(self):\n",
        "        return self.conn.cursor()\n",
        "\n",
        "    def connection(self):\n",
        "        return self.conn\n",
        "\n",
        "    def query(self, q):\n",
        "        self.cur.execute(q)\n",
        "        try:\n",
        "          output=self.cur.fetchone()\n",
        "          return self.cur.fetchall()\n",
        "        except Exception as e:\n",
        "          print('no result to return')\n",
        "          return\n",
        "          \n",
        "\n",
        "\n"
      ],
      "execution_count": 3,
      "outputs": []
    },
    {
      "cell_type": "markdown",
      "metadata": {
        "id": "07477DKBmuCs"
      },
      "source": [
        "#The Main function\n",
        "\n",
        "The main function uses DB class to run queries\n"
      ]
    },
    {
      "cell_type": "code",
      "metadata": {
        "id": "0F-PxfckDMtu",
        "outputId": "0f4fd535-703f-4bc1-de78-9d342b71c1a3",
        "colab": {
          "base_uri": "https://localhost:8080/"
        }
      },
      "source": [
        "def main():\n",
        "    db1 = DB()\n",
        "    q = 'use lahman;'\n",
        "    db1.query(q)\n",
        "    #db1.connection().commit()\n",
        "    \n",
        "    q = 'show tables;'\n",
        "    res=db1.query(q)\n",
        "    #db1.connection().commit()\n",
        "    print('Success! I ran a query and got {} results'.format(len(db1.query(q))))\n",
        "    print(res)\n",
        "    return\n",
        "\n",
        "    \n",
        "\n",
        "if __name__ == '__main__':\n",
        "    main()"
      ],
      "execution_count": 4,
      "outputs": [
        {
          "output_type": "stream",
          "name": "stdout",
          "text": [
            "Got a DB connection!- hurray\n",
            "Success! I ran a query and got 23 results\n",
            "(('Appearances',), ('AwardsManagers',), ('AwardsPlayers',), ('AwardsShareManagers',), ('AwardsSharePlayers',), ('Batting',), ('BattingPost',), ('CollegePlaying',), ('Fielding',), ('FieldingOF',), ('FieldingPost',), ('HallOfFame',), ('Managers',), ('ManagersHalf',), ('Master',), ('Pitching',), ('PitchingPost',), ('Salaries',), ('Schools',), ('SeriesPost',), ('Teams',), ('TeamsFranchises',), ('TeamsHalf',))\n"
          ]
        }
      ]
    }
  ]
}