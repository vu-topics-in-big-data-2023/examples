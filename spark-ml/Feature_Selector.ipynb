{
  "nbformat": 4,
  "nbformat_minor": 0,
  "metadata": {
    "colab": {
      "name": "Feature Selector.ipynb",
      "provenance": [],
      "authorship_tag": "ABX9TyOgtNuK/P88RPwL/9rSiH7X",
      "include_colab_link": true
    },
    "kernelspec": {
      "name": "python3",
      "display_name": "Python 3"
    },
    "language_info": {
      "name": "python"
    }
  },
  "cells": [
    {
      "cell_type": "markdown",
      "metadata": {
        "id": "view-in-github",
        "colab_type": "text"
      },
      "source": [
        "<a href=\"https://colab.research.google.com/github/vu-topics-in-big-data-2023/examples/blob/main/spark-ml/Feature_Selector.ipynb\" target=\"_parent\"><img src=\"https://colab.research.google.com/assets/colab-badge.svg\" alt=\"Open In Colab\"/></a>"
      ]
    },
    {
      "cell_type": "code",
      "metadata": {
        "id": "4cZgafTcJW64"
      },
      "source": [
        "#A common problem is feature selection"
      ],
      "execution_count": 1,
      "outputs": []
    },
    {
      "cell_type": "code",
      "metadata": {
        "colab": {
          "base_uri": "https://localhost:8080/"
        },
        "id": "pm3PbQMBJ9Ew",
        "outputId": "f8c94445-9a77-48cf-a199-336a609ada7a"
      },
      "source": [
        "!apt-get install openjdk-8-jdk-headless -qq > /dev/null\n",
        "import os\n",
        "os.environ[\"JAVA_HOME\"] = \"/usr/lib/jvm/java-8-openjdk-amd64\"\n",
        "#install spark. we are using the one that uses hadoop as the underlying scheduler.\n",
        "!wget -q https://downloads.apache.org/spark//spark-3.2.1/spark-3.2.1-bin-hadoop3.2.tgz\n",
        "!tar xf spark-3.2.1-bin-hadoop3.2.tgz\n",
        "!ls -l\n",
        "os.environ[\"SPARK_HOME\"] = \"spark-3.2.1-bin-hadoop3.2\"\n",
        "!pip install -q findspark\n",
        "import findspark\n",
        "findspark.init()\n",
        "from pyspark.sql import SparkSession\n",
        "spark = SparkSession.builder \\\n",
        "    .master(\"local[*]\") \\\n",
        "    .appName(\"Learning_Spark\") \\\n",
        "    .getOrCreate()"
      ],
      "execution_count": 2,
      "outputs": [
        {
          "output_type": "stream",
          "name": "stdout",
          "text": [
            "total 293932\n",
            "drwxr-xr-x  1 root root      4096 Apr 25 13:46 sample_data\n",
            "drwxr-xr-x 13  501 1000      4096 Jan 20 20:10 spark-3.2.1-bin-hadoop3.2\n",
            "-rw-r--r--  1 root root 300971569 Jan 20 21:37 spark-3.2.1-bin-hadoop3.2.tgz\n"
          ]
        }
      ]
    },
    {
      "cell_type": "code",
      "metadata": {
        "colab": {
          "base_uri": "https://localhost:8080/"
        },
        "id": "XvIK1LnAJ9xn",
        "outputId": "494a9a0b-5a87-46a2-e326-1b27e8ce5713"
      },
      "source": [
        "#VectorSlicer is a transformer that takes a feature vector and outputs a new feature vector with a sub-array of the original features. It is useful for extracting features from a vector column.\n",
        "\n",
        "from pyspark.ml.feature import VectorSlicer\n",
        "from pyspark.ml.linalg import Vectors\n",
        "from pyspark.sql.types import Row\n",
        "\n",
        "df = spark.createDataFrame([\n",
        "    Row(userFeatures=Vectors.sparse(3, {0: -2.0, 1: 2.3})),\n",
        "    Row(userFeatures=Vectors.dense([-2.0, 2.3, 0.0]))])\n",
        "\n",
        "slicer = VectorSlicer(inputCol=\"userFeatures\", outputCol=\"features\", indices=[1])\n",
        "\n",
        "output = slicer.transform(df)\n",
        "\n",
        "output.select(\"userFeatures\", \"features\").show()"
      ],
      "execution_count": 3,
      "outputs": [
        {
          "output_type": "stream",
          "name": "stdout",
          "text": [
            "+--------------------+-------------+\n",
            "|        userFeatures|     features|\n",
            "+--------------------+-------------+\n",
            "|(3,[0,1],[-2.0,2.3])|(1,[0],[2.3])|\n",
            "|      [-2.0,2.3,0.0]|        [2.3]|\n",
            "+--------------------+-------------+\n",
            "\n"
          ]
        }
      ]
    },
    {
      "cell_type": "code",
      "metadata": {
        "colab": {
          "base_uri": "https://localhost:8080/"
        },
        "id": "2aUcBqbpKTqz",
        "outputId": "8635f421-b6d2-407a-a510-c93b28c9117e"
      },
      "source": [
        "#VarianceThresholdSelector is a selector that removes low-variance features. Features with a variance not greater than the varianceThreshold will be removed. If not set, varianceThreshold defaults to 0, which means only features with variance 0 (i.e. features that have the same value in all samples) will be removed.\n",
        "\n",
        "from pyspark.ml.feature import VarianceThresholdSelector\n",
        "from pyspark.ml.linalg import Vectors\n",
        "\n",
        "df = spark.createDataFrame([\n",
        "    (1, Vectors.dense([6.0, 7.0, 0.0, 7.0, 6.0, 0.0])),\n",
        "    (2, Vectors.dense([0.0, 9.0, 6.0, 0.0, 5.0, 9.0])),\n",
        "    (3, Vectors.dense([0.0, 9.0, 3.0, 0.0, 5.0, 5.0])),\n",
        "    (4, Vectors.dense([0.0, 9.0, 8.0, 5.0, 6.0, 4.0])),\n",
        "    (5, Vectors.dense([8.0, 9.0, 6.0, 5.0, 4.0, 4.0])),\n",
        "    (6, Vectors.dense([8.0, 9.0, 6.0, 0.0, 0.0, 0.0]))], [\"id\", \"features\"])\n",
        "\n",
        "selector = VarianceThresholdSelector(varianceThreshold=8.0, outputCol=\"selectedFeatures\")\n",
        "\n",
        "result = selector.fit(df).transform(df)\n",
        "\n",
        "print(\"Output: Features with variance lower than %f are removed.\" %\n",
        "      selector.getVarianceThreshold())\n",
        "result.show()"
      ],
      "execution_count": 4,
      "outputs": [
        {
          "output_type": "stream",
          "name": "stdout",
          "text": [
            "Output: Features with variance lower than 8.000000 are removed.\n",
            "+---+--------------------+-----------------+\n",
            "| id|            features| selectedFeatures|\n",
            "+---+--------------------+-----------------+\n",
            "|  1|[6.0,7.0,0.0,7.0,...|[6.0,0.0,7.0,0.0]|\n",
            "|  2|[0.0,9.0,6.0,0.0,...|[0.0,6.0,0.0,9.0]|\n",
            "|  3|[0.0,9.0,3.0,0.0,...|[0.0,3.0,0.0,5.0]|\n",
            "|  4|[0.0,9.0,8.0,5.0,...|[0.0,8.0,5.0,4.0]|\n",
            "|  5|[8.0,9.0,6.0,5.0,...|[8.0,6.0,5.0,4.0]|\n",
            "|  6|[8.0,9.0,6.0,0.0,...|[8.0,6.0,0.0,0.0]|\n",
            "+---+--------------------+-----------------+\n",
            "\n"
          ]
        }
      ]
    }
  ]
}