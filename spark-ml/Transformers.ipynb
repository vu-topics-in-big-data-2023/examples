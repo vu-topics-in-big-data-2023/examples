{
  "nbformat": 4,
  "nbformat_minor": 0,
  "metadata": {
    "colab": {
      "name": "Transformers",
      "provenance": [],
      "authorship_tag": "ABX9TyNmpue7UX/6dKMoi32gKDb5",
      "include_colab_link": true
    },
    "kernelspec": {
      "name": "python3",
      "display_name": "Python 3"
    },
    "language_info": {
      "name": "python"
    }
  },
  "cells": [
    {
      "cell_type": "markdown",
      "metadata": {
        "id": "view-in-github",
        "colab_type": "text"
      },
      "source": [
        "<a href=\"https://colab.research.google.com/github/vu-topics-in-big-data-2023/examples/blob/main/spark-ml/Transformers.ipynb\" target=\"_parent\"><img src=\"https://colab.research.google.com/assets/colab-badge.svg\" alt=\"Open In Colab\"/></a>"
      ]
    },
    {
      "cell_type": "code",
      "metadata": {
        "id": "d3gWGGHkDv8G"
      },
      "source": [
        "#Binarization is the process of thresholding numerical features to binary (0/1) features.\n",
        "#https://spark.apache.org/docs/3.1.1/ml-features.html#binarizer"
      ],
      "execution_count": 4,
      "outputs": []
    },
    {
      "cell_type": "code",
      "metadata": {
        "colab": {
          "base_uri": "https://localhost:8080/"
        },
        "id": "GI_Ei_4FD8iv",
        "outputId": "fd9c5169-9808-47de-fff2-7968cebd9908"
      },
      "source": [
        "!apt-get install openjdk-8-jdk-headless -qq > /dev/null\n",
        "import os\n",
        "os.environ[\"JAVA_HOME\"] = \"/usr/lib/jvm/java-8-openjdk-amd64\"\n",
        "#install spark. we are using the one that uses hadoop as the underlying scheduler.\n",
        "!wget -q https://downloads.apache.org/spark//spark-3.2.1/spark-3.2.1-bin-hadoop3.2.tgz\n",
        "!tar xf spark-3.2.1-bin-hadoop3.2.tgz\n",
        "!ls -l\n",
        "os.environ[\"SPARK_HOME\"] = \"spark-3.2.1-bin-hadoop3.2\"\n",
        "!pip install -q findspark\n",
        "import findspark\n",
        "findspark.init()\n",
        "from pyspark.sql import SparkSession\n",
        "spark = SparkSession.builder \\\n",
        "    .master(\"local[*]\") \\\n",
        "    .appName(\"Learning_Spark\") \\\n",
        "    .getOrCreate()"
      ],
      "execution_count": 5,
      "outputs": [
        {
          "output_type": "stream",
          "name": "stdout",
          "text": [
            "total 587852\n",
            "drwxr-xr-x  1 root root      4096 Apr 25 13:46 sample_data\n",
            "drwxr-xr-x 13  501 1000      4096 Jan 20 20:10 spark-3.2.1-bin-hadoop3.2\n",
            "-rw-r--r--  1 root root 300971569 Jan 20 21:37 spark-3.2.1-bin-hadoop3.2.tgz\n",
            "-rw-r--r--  1 root root 300971569 Jan 20 21:37 spark-3.2.1-bin-hadoop3.2.tgz.1\n"
          ]
        }
      ]
    },
    {
      "cell_type": "code",
      "metadata": {
        "colab": {
          "base_uri": "https://localhost:8080/"
        },
        "id": "RFMO0GhwECSH",
        "outputId": "336d3fcc-51e8-4411-e904-29ff8d6a568e"
      },
      "source": [
        "from pyspark.ml.feature import Binarizer\n",
        "\n",
        "continuousDataFrame = spark.createDataFrame([\n",
        "    (0, 0.1),\n",
        "    (1, 0.8),\n",
        "    (2, 0.2)\n",
        "], [\"id\", \"feature\"])\n",
        "\n",
        "binarizer = Binarizer(threshold=0.5, inputCol=\"feature\", outputCol=\"binarized_feature\")\n",
        "\n",
        "binarizedDataFrame = binarizer.transform(continuousDataFrame)\n",
        "\n",
        "print(\"Binarizer output with Threshold = %f\" % binarizer.getThreshold())\n",
        "binarizedDataFrame.show()"
      ],
      "execution_count": 6,
      "outputs": [
        {
          "output_type": "stream",
          "name": "stdout",
          "text": [
            "Binarizer output with Threshold = 0.500000\n",
            "+---+-------+-----------------+\n",
            "| id|feature|binarized_feature|\n",
            "+---+-------+-----------------+\n",
            "|  0|    0.1|              0.0|\n",
            "|  1|    0.8|              1.0|\n",
            "|  2|    0.2|              0.0|\n",
            "+---+-------+-----------------+\n",
            "\n"
          ]
        }
      ]
    },
    {
      "cell_type": "code",
      "metadata": {
        "id": "wDCX0Q0DEQu9"
      },
      "source": [
        "#Another interesting transformer is PCA\n",
        "#PCA is a statistical procedure that uses an orthogonal transformation to convert a set of observations of possibly correlated variables into a set of values of linearly uncorrelated variables called principal components"
      ],
      "execution_count": 7,
      "outputs": []
    },
    {
      "cell_type": "code",
      "metadata": {
        "id": "HeJodiZOEWv6"
      },
      "source": [
        "from __future__ import print_function\n",
        "\n",
        "from pyspark import SparkContext\n",
        "from pyspark.sql import SQLContext\n",
        "# $example on$\n",
        "from pyspark.ml.feature import PCA\n",
        "from pyspark.ml.linalg import Vectors"
      ],
      "execution_count": 8,
      "outputs": []
    },
    {
      "cell_type": "code",
      "source": [
        ""
      ],
      "metadata": {
        "id": "hdNxRIqGt5Ne"
      },
      "execution_count": 8,
      "outputs": []
    },
    {
      "cell_type": "markdown",
      "source": [
        "static sparse(size, *args)[source]\n",
        "Create a sparse vector, using either a dictionary, a list of (index, value) pairs, or two separate arrays of indices and values (sorted by index).\n",
        "\n",
        "Parameters\n",
        "sizeint\n",
        "Size of the vector.\n",
        "\n",
        "args\n",
        "Non-zero entries, as a dictionary, list of tuples, or two sorted lists containing indices and values."
      ],
      "metadata": {
        "id": "-KMwiE5jt8IY"
      }
    },
    {
      "cell_type": "markdown",
      "source": [
        ""
      ],
      "metadata": {
        "id": "YLgAwsjDt6H1"
      }
    },
    {
      "cell_type": "code",
      "metadata": {
        "id": "R59GX33HEo0U"
      },
      "source": [
        "data = [(Vectors.sparse(5, [(1, 1.0), (3, 7.0)]),),\n",
        "            (Vectors.dense([2.0, 0.0, 3.0, 4.0, 5.0]),),\n",
        "            (Vectors.dense([4.0, 0.0, 0.0, 6.0, 7.0]),)]\n",
        "df = spark.createDataFrame(data, [\"features\"])"
      ],
      "execution_count": 9,
      "outputs": []
    },
    {
      "cell_type": "code",
      "metadata": {
        "colab": {
          "base_uri": "https://localhost:8080/"
        },
        "id": "ZKcPl6hjEvws",
        "outputId": "c837f086-f128-4eed-b34b-74f21a784e0e"
      },
      "source": [
        "df.show(truncate=False)"
      ],
      "execution_count": 10,
      "outputs": [
        {
          "output_type": "stream",
          "name": "stdout",
          "text": [
            "+---------------------+\n",
            "|features             |\n",
            "+---------------------+\n",
            "|(5,[1,3],[1.0,7.0])  |\n",
            "|[2.0,0.0,3.0,4.0,5.0]|\n",
            "|[4.0,0.0,0.0,6.0,7.0]|\n",
            "+---------------------+\n",
            "\n"
          ]
        }
      ]
    },
    {
      "cell_type": "code",
      "metadata": {
        "id": "gtNGJofsE1m_"
      },
      "source": [
        "pca = PCA(k=3, inputCol=\"features\", outputCol=\"pcaFeatures\")"
      ],
      "execution_count": 11,
      "outputs": []
    },
    {
      "cell_type": "code",
      "metadata": {
        "id": "kzLH989oE7Vb"
      },
      "source": [
        "model = pca.fit(df)"
      ],
      "execution_count": 12,
      "outputs": []
    },
    {
      "cell_type": "code",
      "metadata": {
        "colab": {
          "base_uri": "https://localhost:8080/"
        },
        "id": "atHnHXKxFd1O",
        "outputId": "b5f00d66-8082-47c8-e077-554ee7bd4cac"
      },
      "source": [
        "#select specific output and transform the dataframe\n",
        "result = model.transform(df).select([\"features\",\"pcaFeatures\"])\n",
        "result.explain()"
      ],
      "execution_count": 13,
      "outputs": [
        {
          "output_type": "stream",
          "name": "stdout",
          "text": [
            "== Physical Plan ==\n",
            "*(1) Project [features#54, UDF(features#54) AS pcaFeatures#66]\n",
            "+- *(1) Scan ExistingRDD[features#54]\n",
            "\n",
            "\n"
          ]
        }
      ]
    },
    {
      "cell_type": "code",
      "metadata": {
        "colab": {
          "base_uri": "https://localhost:8080/"
        },
        "id": "XvMasOfCFl4J",
        "outputId": "0562ab8f-f6b0-4bb5-87bd-ca5202f485eb"
      },
      "source": [
        "result.show(truncate=False)"
      ],
      "execution_count": 14,
      "outputs": [
        {
          "output_type": "stream",
          "name": "stdout",
          "text": [
            "+---------------------+------------------------------------------------------------+\n",
            "|features             |pcaFeatures                                                 |\n",
            "+---------------------+------------------------------------------------------------+\n",
            "|(5,[1,3],[1.0,7.0])  |[1.6485728230883814,-4.0132827005162985,-1.0091435193998504]|\n",
            "|[2.0,0.0,3.0,4.0,5.0]|[-4.645104331781533,-1.1167972663619048,-1.0091435193998501]|\n",
            "|[4.0,0.0,0.0,6.0,7.0]|[-6.428880535676488,-5.337951427775359,-1.009143519399851]  |\n",
            "+---------------------+------------------------------------------------------------+\n",
            "\n"
          ]
        }
      ]
    },
    {
      "cell_type": "code",
      "metadata": {
        "id": "0DfJYYkYF3dn"
      },
      "source": [
        "# An important transformer is discrete consine transofm\n",
        "#The Discrete Cosine Transform transforms a length N real-valued sequence in the time domain into another length N real-valued sequence in the frequency domain. "
      ],
      "execution_count": 15,
      "outputs": []
    },
    {
      "cell_type": "code",
      "metadata": {
        "colab": {
          "base_uri": "https://localhost:8080/"
        },
        "id": "_-gbOUfzF_cj",
        "outputId": "c021eed3-87f9-43f3-87c1-638df362ce15"
      },
      "source": [
        "from pyspark.ml.feature import DCT\n",
        "from pyspark.ml.linalg import Vectors\n",
        "\n",
        "df = spark.createDataFrame([\n",
        "    (Vectors.dense([0.0, 1.0, -2.0, 3.0]),),\n",
        "    (Vectors.dense([-1.0, 2.0, 4.0, -7.0]),),\n",
        "    (Vectors.dense([14.0, -2.0, -5.0, 1.0]),)], [\"features\"])\n",
        "\n",
        "dct = DCT(inverse=False, inputCol=\"features\", outputCol=\"featuresDCT\")\n",
        "\n",
        "dctDf = dct.transform(df)\n",
        "\n",
        "dctDf.select([\"features\",\"featuresDCT\"]).show(truncate=False)"
      ],
      "execution_count": 16,
      "outputs": [
        {
          "output_type": "stream",
          "name": "stdout",
          "text": [
            "+--------------------+----------------------------------------------------------------+\n",
            "|features            |featuresDCT                                                     |\n",
            "+--------------------+----------------------------------------------------------------+\n",
            "|[0.0,1.0,-2.0,3.0]  |[1.0,-1.1480502970952693,2.0000000000000004,-2.7716385975338604]|\n",
            "|[-1.0,2.0,4.0,-7.0] |[-1.0,3.378492794482933,-7.000000000000001,2.9301512653149677]  |\n",
            "|[14.0,-2.0,-5.0,1.0]|[4.0,9.304453421915744,11.000000000000002,1.5579302036357163]   |\n",
            "+--------------------+----------------------------------------------------------------+\n",
            "\n"
          ]
        }
      ]
    },
    {
      "cell_type": "code",
      "metadata": {
        "colab": {
          "base_uri": "https://localhost:8080/"
        },
        "id": "vyJBwdsEGMjQ",
        "outputId": "b891f7b3-8448-459f-9a66-5589df512ae6"
      },
      "source": [
        "#Another useful thing is string Indexer. \n",
        "from pyspark.ml.feature import StringIndexer, IndexToString\n",
        "\n",
        "df = spark.createDataFrame(\n",
        "    [(0, \"a\"), (1, \"b\"), (2, \"c\"), (3, \"a\"), (4, \"a\"), (5, \"c\")],\n",
        "    [\"id\", \"category\"])\n",
        "\n",
        "indexer = StringIndexer(inputCol=\"category\", outputCol=\"categoryIndex\")\n",
        "indexed = indexer.fit(df).transform(df)\n",
        "indexed.show()"
      ],
      "execution_count": 17,
      "outputs": [
        {
          "output_type": "stream",
          "name": "stdout",
          "text": [
            "+---+--------+-------------+\n",
            "| id|category|categoryIndex|\n",
            "+---+--------+-------------+\n",
            "|  0|       a|          0.0|\n",
            "|  1|       b|          2.0|\n",
            "|  2|       c|          1.0|\n",
            "|  3|       a|          0.0|\n",
            "|  4|       a|          0.0|\n",
            "|  5|       c|          1.0|\n",
            "+---+--------+-------------+\n",
            "\n"
          ]
        }
      ]
    },
    {
      "cell_type": "code",
      "metadata": {
        "colab": {
          "base_uri": "https://localhost:8080/"
        },
        "id": "c6BPFIMYGWXC",
        "outputId": "acea4ef2-4975-43f3-87a8-385d9fa2f17f"
      },
      "source": [
        "#Index to String is similar\n",
        "#Applying IndexToString with categoryIndex as the input column, originalCategory as the output column, we are able to retrieve our original labels (they will be inferred from the columns’ metadata):\n",
        "print(\"Transformed string column '%s' to indexed column '%s'\"\n",
        "      % (indexer.getInputCol(), indexer.getOutputCol()))\n",
        "indexed.show()\n",
        "\n",
        "print(\"StringIndexer stores labels in output column metadata\\n\")\n",
        "\n",
        "converter = IndexToString(inputCol=\"categoryIndex\", outputCol=\"originalCategory\")\n",
        "converted = converter.transform(indexed)"
      ],
      "execution_count": 18,
      "outputs": [
        {
          "output_type": "stream",
          "name": "stdout",
          "text": [
            "Transformed string column 'category' to indexed column 'categoryIndex'\n",
            "+---+--------+-------------+\n",
            "| id|category|categoryIndex|\n",
            "+---+--------+-------------+\n",
            "|  0|       a|          0.0|\n",
            "|  1|       b|          2.0|\n",
            "|  2|       c|          1.0|\n",
            "|  3|       a|          0.0|\n",
            "|  4|       a|          0.0|\n",
            "|  5|       c|          1.0|\n",
            "+---+--------+-------------+\n",
            "\n",
            "StringIndexer stores labels in output column metadata\n",
            "\n"
          ]
        }
      ]
    },
    {
      "cell_type": "code",
      "metadata": {
        "colab": {
          "base_uri": "https://localhost:8080/"
        },
        "id": "o4WF17L7GssI",
        "outputId": "d37c5bd5-b16e-4fe8-904c-b16b983a8520"
      },
      "source": [
        "\n",
        "converter = IndexToString(inputCol=\"categoryIndex\", outputCol=\"originalCategory\")\n",
        "converted = converter.transform(indexed)\n",
        "\n",
        "print(\"Transformed indexed column '%s' back to original string column '%s' using \"\n",
        "      \"labels in metadata\" % (converter.getInputCol(), converter.getOutputCol()))\n",
        "converted.select(\"id\", \"categoryIndex\", \"originalCategory\").show()\n"
      ],
      "execution_count": 19,
      "outputs": [
        {
          "output_type": "stream",
          "name": "stdout",
          "text": [
            "Transformed indexed column 'categoryIndex' back to original string column 'originalCategory' using labels in metadata\n",
            "+---+-------------+----------------+\n",
            "| id|categoryIndex|originalCategory|\n",
            "+---+-------------+----------------+\n",
            "|  0|          0.0|               a|\n",
            "|  1|          2.0|               b|\n",
            "|  2|          1.0|               c|\n",
            "|  3|          0.0|               a|\n",
            "|  4|          0.0|               a|\n",
            "|  5|          1.0|               c|\n",
            "+---+-------------+----------------+\n",
            "\n"
          ]
        }
      ]
    },
    {
      "cell_type": "code",
      "metadata": {
        "id": "L0_Oc_agG2kA"
      },
      "source": [
        "#One Hot Encoding is another useful transformer\n",
        "#One-hot encoding maps a categorical feature, represented as a label index, to a binary vector with at most a single one-value \n",
        "#indicating the presence of a specific feature value from among the set of all feature values.\n",
        "#This encoding allows algorithms which expect continuous features, such as Logistic Regression, to use categorical features. \n",
        "#For string type input data, it is common to encode categorical features using StringIndexer first."
      ],
      "execution_count": 20,
      "outputs": []
    },
    {
      "cell_type": "code",
      "metadata": {
        "colab": {
          "base_uri": "https://localhost:8080/"
        },
        "id": "AApv8Vt8HA_2",
        "outputId": "54e4cca7-64f0-4a9c-b941-2ac81b9a7940"
      },
      "source": [
        "from pyspark.ml.feature import OneHotEncoder\n",
        "\n",
        "df = spark.createDataFrame([\n",
        "    (0.0, 1.0),\n",
        "    (1.0, 0.0),\n",
        "    (2.0, 1.0),\n",
        "    (0.0, 2.0),\n",
        "    (0.0, 1.0),\n",
        "    (2.0, 0.0)\n",
        "], [\"categoryIndex1\", \"categoryIndex2\"])\n",
        "\n",
        "encoder = OneHotEncoder(inputCols=[\"categoryIndex1\", \"categoryIndex2\"],\n",
        "                        outputCols=[\"categoryVec1\", \"categoryVec2\"])\n",
        "model = encoder.fit(df)\n",
        "encoded = model.transform(df)\n",
        "encoded.show()\n",
        "#For those not familiar with vector types in spark, the sparse vector seen in the third and fourth column below has 3 parts.\n",
        "#The first component which is a 0 indicates that it is a sparse vector. Not shown in the output\n",
        "#The second component talks about the size of the vector. The third component talks about the indices where the vector is populated while the fourth component talks about what values these are. \n",
        "#This truncates the vector and is really efficient when you have really large vector representations."
      ],
      "execution_count": 21,
      "outputs": [
        {
          "output_type": "stream",
          "name": "stdout",
          "text": [
            "+--------------+--------------+-------------+-------------+\n",
            "|categoryIndex1|categoryIndex2| categoryVec1| categoryVec2|\n",
            "+--------------+--------------+-------------+-------------+\n",
            "|           0.0|           1.0|(2,[0],[1.0])|(2,[1],[1.0])|\n",
            "|           1.0|           0.0|(2,[1],[1.0])|(2,[0],[1.0])|\n",
            "|           2.0|           1.0|    (2,[],[])|(2,[1],[1.0])|\n",
            "|           0.0|           2.0|(2,[0],[1.0])|    (2,[],[])|\n",
            "|           0.0|           1.0|(2,[0],[1.0])|(2,[1],[1.0])|\n",
            "|           2.0|           0.0|    (2,[],[])|(2,[0],[1.0])|\n",
            "+--------------+--------------+-------------+-------------+\n",
            "\n"
          ]
        }
      ]
    },
    {
      "cell_type": "code",
      "metadata": {
        "id": "5MECbNgTnBM7",
        "outputId": "087e7e12-041c-47a0-febe-7b15be8436e9",
        "colab": {
          "base_uri": "https://localhost:8080/"
        }
      },
      "source": [
        "from pyspark.ml.linalg import DenseVector\n",
        "from pyspark.sql.types import FloatType,ArrayType\n",
        "from pyspark.sql.functions import UserDefinedFunction\n",
        "def toDense(v):\n",
        "  v = DenseVector(v)\n",
        "  new_array = list([float(x) for x in v])\n",
        "  return new_array \n",
        "denseudf=UserDefinedFunction(toDense, ArrayType(FloatType()))\n",
        "encoded.withColumn('categoryVecDense',denseudf('categoryVec1')).show()"
      ],
      "execution_count": 22,
      "outputs": [
        {
          "output_type": "stream",
          "name": "stdout",
          "text": [
            "+--------------+--------------+-------------+-------------+----------------+\n",
            "|categoryIndex1|categoryIndex2| categoryVec1| categoryVec2|categoryVecDense|\n",
            "+--------------+--------------+-------------+-------------+----------------+\n",
            "|           0.0|           1.0|(2,[0],[1.0])|(2,[1],[1.0])|      [1.0, 0.0]|\n",
            "|           1.0|           0.0|(2,[1],[1.0])|(2,[0],[1.0])|      [0.0, 1.0]|\n",
            "|           2.0|           1.0|    (2,[],[])|(2,[1],[1.0])|      [0.0, 0.0]|\n",
            "|           0.0|           2.0|(2,[0],[1.0])|    (2,[],[])|      [1.0, 0.0]|\n",
            "|           0.0|           1.0|(2,[0],[1.0])|(2,[1],[1.0])|      [1.0, 0.0]|\n",
            "|           2.0|           0.0|    (2,[],[])|(2,[0],[1.0])|      [0.0, 0.0]|\n",
            "+--------------+--------------+-------------+-------------+----------------+\n",
            "\n"
          ]
        }
      ]
    },
    {
      "cell_type": "code",
      "metadata": {
        "id": "rDj8MPMymeAN"
      },
      "source": [
        "#in the above "
      ],
      "execution_count": 23,
      "outputs": []
    },
    {
      "cell_type": "code",
      "metadata": {
        "id": "ofnb4oRZHPj9"
      },
      "source": [
        "#Normalizer is used transforms a dataset of Vector rows, normalizing each Vector to have unit norm.\n",
        "# It takes parameter p, which specifies the p-norm used for normalization. (p=2 by default.) \n",
        "# This normalization can help standardize your input data and improve the behavior of learning algorithms."
      ],
      "execution_count": 24,
      "outputs": []
    },
    {
      "cell_type": "code",
      "metadata": {
        "id": "6soJISCkHwCa",
        "outputId": "584fbe42-03d4-46fb-eff6-fab7fe6b7197",
        "colab": {
          "base_uri": "https://localhost:8080/"
        }
      },
      "source": [
        "from pyspark.ml.feature import Normalizer\n",
        "from pyspark.ml.linalg import Vectors\n",
        "\n",
        "dataFrame = spark.createDataFrame([\n",
        "    (0, Vectors.dense([1.0, 0.5, -1.0]),),\n",
        "    (1, Vectors.dense([2.0, 1.0, 1.0]),),\n",
        "    (2, Vectors.dense([4.0, 10.0, 2.0]),)\n",
        "], [\"id\", \"features\"])\n",
        "\n",
        "# Normalize each Vector using $L^1$ norm.\n",
        "normalizer = Normalizer(inputCol=\"features\", outputCol=\"normFeatures\", p=1.0)\n",
        "l1NormData = normalizer.transform(dataFrame)\n",
        "print(\"Normalized using L^1 norm\")\n",
        "l1NormData.show(truncate=False)\n",
        "\n",
        "# Normalize each Vector using $L^\\infty$ norm.\n",
        "lInfNormData = normalizer.transform(dataFrame, {normalizer.p: float(\"inf\")})\n",
        "print(\"Normalized using L^inf norm\")\n",
        "lInfNormData.show(truncate=False)\n",
        "\n",
        "\n",
        "# Normalize each Vector using $L^2$ norm.\n",
        "l2NormData = normalizer.transform(dataFrame, {normalizer.p: float(2)})\n",
        "print(\"Normalized using L^2 norm\")\n",
        "l2NormData.show(truncate=False)\n"
      ],
      "execution_count": 25,
      "outputs": [
        {
          "output_type": "stream",
          "name": "stdout",
          "text": [
            "Normalized using L^1 norm\n",
            "+---+--------------+------------------+\n",
            "|id |features      |normFeatures      |\n",
            "+---+--------------+------------------+\n",
            "|0  |[1.0,0.5,-1.0]|[0.4,0.2,-0.4]    |\n",
            "|1  |[2.0,1.0,1.0] |[0.5,0.25,0.25]   |\n",
            "|2  |[4.0,10.0,2.0]|[0.25,0.625,0.125]|\n",
            "+---+--------------+------------------+\n",
            "\n",
            "Normalized using L^inf norm\n",
            "+---+--------------+--------------+\n",
            "|id |features      |normFeatures  |\n",
            "+---+--------------+--------------+\n",
            "|0  |[1.0,0.5,-1.0]|[1.0,0.5,-1.0]|\n",
            "|1  |[2.0,1.0,1.0] |[1.0,0.5,0.5] |\n",
            "|2  |[4.0,10.0,2.0]|[0.4,1.0,0.2] |\n",
            "+---+--------------+--------------+\n",
            "\n",
            "Normalized using L^2 norm\n",
            "+---+--------------+-----------------------------------------------------------+\n",
            "|id |features      |normFeatures                                               |\n",
            "+---+--------------+-----------------------------------------------------------+\n",
            "|0  |[1.0,0.5,-1.0]|[0.6666666666666666,0.3333333333333333,-0.6666666666666666]|\n",
            "|1  |[2.0,1.0,1.0] |[0.8164965809277261,0.4082482904638631,0.4082482904638631] |\n",
            "|2  |[4.0,10.0,2.0]|[0.3651483716701107,0.9128709291752769,0.18257418583505536]|\n",
            "+---+--------------+-----------------------------------------------------------+\n",
            "\n"
          ]
        }
      ]
    },
    {
      "cell_type": "code",
      "metadata": {
        "id": "OzGHMuWjINsd"
      },
      "source": [
        "#Bucketizer: Bucketizer transforms a column of continuous features to a column of feature buckets\n",
        "# it usesthe split parameter for mapping continuous features into buckets"
      ],
      "execution_count": 26,
      "outputs": []
    },
    {
      "cell_type": "code",
      "metadata": {
        "id": "A_M--RteIWVP",
        "outputId": "b523f3d3-c456-4f25-d74c-298783959573",
        "colab": {
          "base_uri": "https://localhost:8080/"
        }
      },
      "source": [
        "from pyspark.ml.feature import Bucketizer\n",
        "\n",
        "splits = [-float(\"inf\"), -0.5, 0.0, 0.5, float(\"inf\")]\n",
        "\n",
        "data = [(-999.9,), (-0.5,), (-0.3,), (0.0,), (0.2,), (999.9,)]\n",
        "dataFrame = spark.createDataFrame(data, [\"features\"])\n",
        "\n",
        "bucketizer = Bucketizer(splits=splits, inputCol=\"features\", outputCol=\"bucketedFeatures\")\n",
        "\n",
        "# Transform original data into its bucket index.\n",
        "bucketedData = bucketizer.transform(dataFrame)\n",
        "\n",
        "print(\"Bucketizer output with %d buckets\" % (len(bucketizer.getSplits())-1))\n",
        "bucketedData.show()"
      ],
      "execution_count": 27,
      "outputs": [
        {
          "output_type": "stream",
          "name": "stdout",
          "text": [
            "Bucketizer output with 4 buckets\n",
            "+--------+----------------+\n",
            "|features|bucketedFeatures|\n",
            "+--------+----------------+\n",
            "|  -999.9|             0.0|\n",
            "|    -0.5|             1.0|\n",
            "|    -0.3|             1.0|\n",
            "|     0.0|             2.0|\n",
            "|     0.2|             2.0|\n",
            "|   999.9|             3.0|\n",
            "+--------+----------------+\n",
            "\n"
          ]
        }
      ]
    }
  ]
}