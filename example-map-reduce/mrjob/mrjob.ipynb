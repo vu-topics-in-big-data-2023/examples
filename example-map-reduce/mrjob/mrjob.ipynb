{
  "nbformat": 4,
  "nbformat_minor": 0,
  "metadata": {
    "colab": {
      "name": "mrjob",
      "provenance": [],
      "authorship_tag": "ABX9TyN9ZsNcoT+/p5rnbBLcFDuH",
      "include_colab_link": true
    },
    "kernelspec": {
      "name": "python3",
      "display_name": "Python 3"
    }
  },
  "cells": [
    {
      "cell_type": "markdown",
      "metadata": {
        "id": "view-in-github",
        "colab_type": "text"
      },
      "source": [
        "<a href=\"https://colab.research.google.com/github/vu-topics-in-big-data-2023/examples/blob/main/example-map-reduce/mrjob/mrjob.ipynb\" target=\"_parent\"><img src=\"https://colab.research.google.com/assets/colab-badge.svg\" alt=\"Open In Colab\"/></a>"
      ]
    },
    {
      "cell_type": "code",
      "metadata": {
        "id": "oCiUJ6gUprPk"
      },
      "source": [
        "!pip install mrjob"
      ],
      "execution_count": null,
      "outputs": []
    },
    {
      "cell_type": "code",
      "metadata": {
        "colab": {
          "base_uri": "https://localhost:8080/"
        },
        "id": "6CKzC1TEqKO4",
        "outputId": "5fe6ac26-f312-47cc-c8c9-6655a0070454"
      },
      "source": [
        "%%file mrjobexample.py\n",
        "from mrjob.job import MRJob\n",
        "import re\n",
        "\n",
        "WORD_RE = re.compile(r\"[\\w']+\")\n",
        "\n",
        "\n",
        "class MRWordFreqCount(MRJob):\n",
        "\n",
        "    def mapper(self, _, line):\n",
        "        for word in WORD_RE.findall(line):\n",
        "            yield word.lower(), 1\n",
        "\n",
        "    def reducer(self, word, counts):\n",
        "        yield word, sum(counts)\n",
        "\n",
        "if __name__ == '__main__':\n",
        "    MRWordFreqCount.run()"
      ],
      "execution_count": 16,
      "outputs": [
        {
          "output_type": "stream",
          "text": [
            "Overwriting mrjobexample.py\n"
          ],
          "name": "stdout"
        }
      ]
    },
    {
      "cell_type": "code",
      "metadata": {
        "colab": {
          "base_uri": "https://localhost:8080/"
        },
        "id": "8C8Oan61qnkq",
        "outputId": "fa4b2ce3-b270-4c70-9b15-bd6366b04829"
      },
      "source": [
        "%%file myfile.txt\n",
        "ine of text input is the value) and yields as many key-value pairs as it likes. The reduce() method takes a key and an iterator of values and also yields as many key-value pairs as it likes. (In this case, it sums the values for each key, which represent the numbers of characters, words, and lines in the input.)\n",
        "\n"
      ],
      "execution_count": 17,
      "outputs": [
        {
          "output_type": "stream",
          "text": [
            "Overwriting myfile.txt\n"
          ],
          "name": "stdout"
        }
      ]
    },
    {
      "cell_type": "code",
      "metadata": {
        "id": "zYoQW6TxqWLv"
      },
      "source": [
        "!python mrjobexample.py -r local /content/myfile.txt"
      ],
      "execution_count": null,
      "outputs": []
    }
  ]
}