{
  "nbformat": 4,
  "nbformat_minor": 0,
  "metadata": {
    "colab": {
      "name": "pandas-example",
      "provenance": [],
      "include_colab_link": true
    },
    "kernelspec": {
      "name": "python3",
      "display_name": "Python 3"
    }
  },
  "cells": [
    {
      "cell_type": "markdown",
      "metadata": {
        "id": "view-in-github",
        "colab_type": "text"
      },
      "source": [
        "<a href=\"https://colab.research.google.com/github/vu-topics-in-big-data-2023/examples/blob/main/example-pandas/pandas_example.ipynb\" target=\"_parent\"><img src=\"https://colab.research.google.com/assets/colab-badge.svg\" alt=\"Open In Colab\"/></a>"
      ]
    },
    {
      "cell_type": "code",
      "metadata": {
        "id": "B3COSJlAYJWs"
      },
      "source": [
        "# load the IMDB movie file here.\n",
        "\n",
        "!wget https://github.com/vu-topics-in-big-data-2023/examples/raw/main/example-pandas/IMDB-Movie-Data.csv\n",
        "\n"
      ],
      "execution_count": null,
      "outputs": []
    },
    {
      "cell_type": "code",
      "metadata": {
        "id": "eanrO2ckalvo"
      },
      "source": [
        "!ls -l "
      ],
      "execution_count": null,
      "outputs": []
    },
    {
      "cell_type": "code",
      "metadata": {
        "id": "vNNe9e8VbTJh"
      },
      "source": [
        "import pandas as pd"
      ],
      "execution_count": null,
      "outputs": []
    },
    {
      "cell_type": "code",
      "metadata": {
        "id": "B7YrhxXbbWSo"
      },
      "source": [
        "movies_df = pd.read_csv(\"IMDB-Movie-Data.csv\", index_col=\"Title\")\n",
        "movies_df.head()"
      ],
      "execution_count": null,
      "outputs": []
    },
    {
      "cell_type": "code",
      "metadata": {
        "id": "kT5P468FbeMn"
      },
      "source": [
        "movies_df.loc[\"Prometheus\"]"
      ],
      "execution_count": null,
      "outputs": []
    },
    {
      "cell_type": "code",
      "metadata": {
        "id": "WTuQ7ryMbvnk"
      },
      "source": [
        "movies_df.tail(2)"
      ],
      "execution_count": null,
      "outputs": []
    },
    {
      "cell_type": "code",
      "metadata": {
        "id": "pNFd1Nldbzmd"
      },
      "source": [
        "movies_df.info()"
      ],
      "execution_count": null,
      "outputs": []
    },
    {
      "cell_type": "code",
      "metadata": {
        "id": "7rAvw7_sb3CD"
      },
      "source": [
        "movies_df.shape"
      ],
      "execution_count": null,
      "outputs": []
    },
    {
      "cell_type": "code",
      "metadata": {
        "id": "A9llf1Kzb_GT"
      },
      "source": [
        "temp_df = movies_df.append(movies_df)\n",
        "temp_df.shape\n"
      ],
      "execution_count": null,
      "outputs": []
    },
    {
      "cell_type": "code",
      "metadata": {
        "id": "RVH3oCTwcDNB"
      },
      "source": [
        "temp_df = temp_df.drop_duplicates()\n",
        "\n",
        "temp_df.shape"
      ],
      "execution_count": null,
      "outputs": []
    },
    {
      "cell_type": "code",
      "metadata": {
        "id": "2K1eyKzjcJZ7"
      },
      "source": [
        "temp_df.drop_duplicates(inplace=True)"
      ],
      "execution_count": null,
      "outputs": []
    },
    {
      "cell_type": "code",
      "metadata": {
        "id": "5-32oOVicP1Q"
      },
      "source": [
        "movies_df.columns\n"
      ],
      "execution_count": null,
      "outputs": []
    },
    {
      "cell_type": "code",
      "metadata": {
        "id": "DUVe6j9LcVO_"
      },
      "source": [
        "movies_df.rename(columns={\n",
        "        'Runtime (Minutes)': 'Runtime', \n",
        "        'Revenue (Millions)': 'Revenue_millions'\n",
        "    }, inplace=True)\n",
        "\n",
        "\n",
        "movies_df.columns"
      ],
      "execution_count": null,
      "outputs": []
    },
    {
      "cell_type": "code",
      "metadata": {
        "id": "VRQRLz8ScbqP"
      },
      "source": [
        "movies_df.columns = [col.lower() for col in movies_df]"
      ],
      "execution_count": null,
      "outputs": []
    },
    {
      "cell_type": "code",
      "metadata": {
        "id": "QZSCBB4ZcndF"
      },
      "source": [
        "#isnull() returns a DataFrame where each cell is either True or False depending on that cell's null status.\n",
        "movies_df.isnull()"
      ],
      "execution_count": null,
      "outputs": []
    },
    {
      "cell_type": "code",
      "metadata": {
        "id": "Rq0DBmexc0V7"
      },
      "source": [
        "#To count the number of nulls in each column we use an aggregate function for summing:\n",
        "movies_df.isnull().sum()"
      ],
      "execution_count": null,
      "outputs": []
    },
    {
      "cell_type": "code",
      "metadata": {
        "id": "HfTmLBDnc5cr"
      },
      "source": [
        "#removing null values\n",
        "#This operation will delete any row with at least a single null value, but it will return a new DataFrame without altering the original one. You could specify inplace=True in this method as well.\n",
        "movies_df.dropna()"
      ],
      "execution_count": null,
      "outputs": []
    },
    {
      "cell_type": "code",
      "metadata": {
        "id": "KUVEWH5gdKmf"
      },
      "source": [
        "#drop columns with null\n",
        "#axis 1 is the second dimension which is the columns\n",
        "movies_df.dropna(axis=1)"
      ],
      "execution_count": null,
      "outputs": []
    },
    {
      "cell_type": "code",
      "metadata": {
        "id": "pSFWL9gudXkX"
      },
      "source": [
        "#extract out a particular column\n",
        "revenue = movies_df['revenue_millions']\n",
        "revenue.head()"
      ],
      "execution_count": null,
      "outputs": []
    },
    {
      "cell_type": "code",
      "metadata": {
        "id": "nnJr349GduCN"
      },
      "source": [
        "#calculate mean\n",
        "revenue_mean = revenue.mean()\n",
        "revenue.fillna(revenue_mean, inplace=True)\n",
        "movies_df.isnull().sum()"
      ],
      "execution_count": null,
      "outputs": []
    },
    {
      "cell_type": "code",
      "metadata": {
        "id": "LN8Ks6h1duJD"
      },
      "source": [
        "#statiscal summary\n",
        "movies_df.describe()"
      ],
      "execution_count": null,
      "outputs": []
    },
    {
      "cell_type": "code",
      "metadata": {
        "id": "kbkGSe9ueFwJ"
      },
      "source": [
        "#By using the correlation method .corr() we can generate the relationship between each continuous variable:\n",
        "movies_df.corr()"
      ],
      "execution_count": null,
      "outputs": []
    },
    {
      "cell_type": "code",
      "metadata": {
        "id": "ZjiwFpTqeKtP"
      },
      "source": [
        "#extract from dataframes\n",
        "genre_col = movies_df['genre']\n",
        "\n",
        "type(genre_col)"
      ],
      "execution_count": null,
      "outputs": []
    },
    {
      "cell_type": "code",
      "metadata": {
        "id": "g4GbJ3kmeSQe"
      },
      "source": [
        "subset = movies_df[['genre', 'rating']]"
      ],
      "execution_count": null,
      "outputs": []
    },
    {
      "cell_type": "code",
      "metadata": {
        "id": "MiGrUS2CeWeX"
      },
      "source": [
        "movie_subset = movies_df.loc['Prometheus':'Sing']\n",
        "\n",
        "movie_subset = movies_df.iloc[1:4]\n",
        "\n",
        "movie_subset\n",
        "#slicing with loc includes the last entry - iloc excludes the last entry"
      ],
      "execution_count": null,
      "outputs": []
    },
    {
      "cell_type": "code",
      "metadata": {
        "id": "JDHN-YbneoN7"
      },
      "source": [
        "#search - conditions\n",
        "condition = (movies_df['director'] == \"Ridley Scott\")"
      ],
      "execution_count": null,
      "outputs": []
    },
    {
      "cell_type": "code",
      "metadata": {
        "id": "BxLYRRITetkS"
      },
      "source": [
        "movies_df[movies_df['rating'] >= 8.6].head(3)"
      ],
      "execution_count": null,
      "outputs": []
    },
    {
      "cell_type": "code",
      "metadata": {
        "id": "8G71j1V-extD"
      },
      "source": [
        "#you can combine filters\n",
        "movies_df[(movies_df['director'] == 'Christopher Nolan') | (movies_df['director'] == 'Ridley Scott')].head()"
      ],
      "execution_count": null,
      "outputs": []
    },
    {
      "cell_type": "code",
      "metadata": {
        "id": "dU2IOOz-e6QR"
      },
      "source": [
        "#complex search\n",
        "movies_df[\n",
        "    ((movies_df['year'] >= 2005) & (movies_df['year'] <= 2010))\n",
        "    & (movies_df['rating'] > 8.0)\n",
        "    & (movies_df['revenue_millions'] < movies_df['revenue_millions'].quantile(0.25))\n",
        "]"
      ],
      "execution_count": null,
      "outputs": []
    },
    {
      "cell_type": "code",
      "metadata": {
        "id": "nxo-NfGufVDe"
      },
      "source": [
        "#applying functions\n",
        "movies_df[\"rating_category\"] = movies_df[\"rating\"].apply(lambda x: 'good' if x >= 8.0 else 'bad')\n",
        "\n",
        "movies_df.head(2)"
      ],
      "execution_count": null,
      "outputs": []
    },
    {
      "cell_type": "code",
      "source": [
        "import pyarrow as pa\n",
        "import pyarrow.parquet as pq"
      ],
      "metadata": {
        "id": "ITvvlIn3eJey"
      },
      "execution_count": null,
      "outputs": []
    },
    {
      "cell_type": "code",
      "source": [
        "table = pa.Table.from_pandas(movies_df)"
      ],
      "metadata": {
        "id": "e4Fz-_2keNo9"
      },
      "execution_count": null,
      "outputs": []
    },
    {
      "cell_type": "code",
      "source": [
        "movies_df.columns"
      ],
      "metadata": {
        "id": "5u_nHiyVeezH"
      },
      "execution_count": null,
      "outputs": []
    },
    {
      "cell_type": "code",
      "source": [
        "pq.write_to_dataset(\n",
        "    table,\n",
        "    root_path='output.parquet',\n",
        "    partition_cols=['Director', 'Year'],\n",
        ")"
      ],
      "metadata": {
        "id": "AxF5t5-jeTNx"
      },
      "execution_count": null,
      "outputs": []
    },
    {
      "cell_type": "code",
      "source": [
        "df=pd.read_parquet('file://output.parquet/Director=Aamir Khan')"
      ],
      "metadata": {
        "id": "-9hDt7kVepRf"
      },
      "execution_count": null,
      "outputs": []
    },
    {
      "cell_type": "code",
      "source": [
        "df"
      ],
      "metadata": {
        "id": "Ml4ka8geej2x"
      },
      "execution_count": null,
      "outputs": []
    },
    {
      "cell_type": "code",
      "source": [
        "df=pd.read_parquet('file://output.parquet/Director=Aamir Khan',columns=['Rating','Votes'])"
      ],
      "metadata": {
        "id": "mmR96bWGe_59"
      },
      "execution_count": null,
      "outputs": []
    },
    {
      "cell_type": "code",
      "source": [
        "df"
      ],
      "metadata": {
        "id": "92C3miaEfHZx"
      },
      "execution_count": null,
      "outputs": []
    }
  ]
}