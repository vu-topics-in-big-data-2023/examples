{
  "nbformat": 4,
  "nbformat_minor": 0,
  "metadata": {
    "colab": {
      "name": "Kafka",
      "provenance": [],
      "authorship_tag": "ABX9TyNAPB5hbjFsXicABDwypnrf",
      "include_colab_link": true
    },
    "kernelspec": {
      "name": "python3",
      "display_name": "Python 3"
    },
    "language_info": {
      "name": "python"
    }
  },
  "cells": [
    {
      "cell_type": "markdown",
      "metadata": {
        "id": "view-in-github",
        "colab_type": "text"
      },
      "source": [
        "<a href=\"https://colab.research.google.com/github/vu-topics-in-big-data-2022/examples/blob/main/example-kafka/Kafka.ipynb\" target=\"_parent\"><img src=\"https://colab.research.google.com/assets/colab-badge.svg\" alt=\"Open In Colab\"/></a>"
      ]
    },
    {
      "cell_type": "markdown",
      "metadata": {
        "id": "zwbWcINaKdEr"
      },
      "source": [
        "Read https://towardsdatascience.com/kafka-python-explained-in-10-lines-of-code-800e3e07dad1"
      ]
    },
    {
      "cell_type": "code",
      "metadata": {
        "id": "hstMO9lPEVFq"
      },
      "source": [
        "#zookeeper is packaged in a debian package that you can install\n",
        "#kazoo is the python library used to work with zookeeper\n",
        "!apt-get install zookeeperd\n",
        "!pip install kazoo"
      ],
      "execution_count": null,
      "outputs": []
    },
    {
      "cell_type": "code",
      "metadata": {
        "id": "NVQhMWSUEmYo"
      },
      "source": [
        "#install Java\n",
        "!apt-get install openjdk-8-jdk-headless -qq > /dev/null\n",
        "import os\n",
        "os.environ[\"JAVA_HOME\"] = \"/usr/lib/jvm/java-8-openjdk-amd64\""
      ],
      "execution_count": 2,
      "outputs": []
    },
    {
      "cell_type": "code",
      "metadata": {
        "id": "9qckCsebEs4w"
      },
      "source": [
        "#get kafka\n",
        "!wget  https://downloads.apache.org/kafka/2.7.0/kafka_2.13-2.7.0.tgz\n",
        "!tar -zxf kafka_2.13-2.7.0.tgz\n",
        "!sudo mv kafka_2.13-2.7.0 /usr/local/kafka\n",
        "!sudo mkdir -p /tmp/kafka-logs"
      ],
      "execution_count": null,
      "outputs": []
    },
    {
      "cell_type": "code",
      "metadata": {
        "id": "J3Ws4cuLFOFd"
      },
      "source": [
        "!/usr/share/zookeeper/bin/zkServer.sh start"
      ],
      "execution_count": null,
      "outputs": []
    },
    {
      "cell_type": "code",
      "metadata": {
        "id": "KV7nv_ZkFUj0"
      },
      "source": [
        "!/usr/local/kafka/bin/kafka-server-start.sh -daemon /usr/local/kafka/config/server.properties"
      ],
      "execution_count": 5,
      "outputs": []
    },
    {
      "cell_type": "code",
      "metadata": {
        "colab": {
          "base_uri": "https://localhost:8080/"
        },
        "id": "pg7bIIJ2FdaU",
        "outputId": "d56c5a5c-954b-4af4-c691-4a90c1aadf7a"
      },
      "source": [
        "!/usr/local/kafka/bin/kafka-topics.sh --create --zookeeper localhost:2181 --replication-factor 1 --partitions 1 --topic bigdata"
      ],
      "execution_count": 6,
      "outputs": [
        {
          "output_type": "stream",
          "text": [
            "Created topic bigdata.\n"
          ],
          "name": "stdout"
        }
      ]
    },
    {
      "cell_type": "code",
      "metadata": {
        "colab": {
          "base_uri": "https://localhost:8080/"
        },
        "id": "74Fwo-7tF6Db",
        "outputId": "42adcd24-93ce-49a8-97e2-3e459a182e4b"
      },
      "source": [
        "#verify the topics\n",
        "!/usr/local/kafka/bin/kafka-topics.sh --zookeeper localhost:2181  --describe --topic bigdata"
      ],
      "execution_count": 7,
      "outputs": [
        {
          "output_type": "stream",
          "text": [
            "Topic: bigdata\tPartitionCount: 1\tReplicationFactor: 1\tConfigs: \n",
            "\tTopic: bigdata\tPartition: 0\tLeader: 0\tReplicas: 0\tIsr: 0\n"
          ],
          "name": "stdout"
        }
      ]
    },
    {
      "cell_type": "code",
      "metadata": {
        "colab": {
          "base_uri": "https://localhost:8080/"
        },
        "id": "AaBOKjiNGOGX",
        "outputId": "7faf30fe-5ecd-49c8-a0cc-03bc8a823f44"
      },
      "source": [
        "#produce a message \n",
        "!/usr/local/kafka/bin/kafka-console-producer.sh --broker-list localhost:9092 --topic bigdata"
      ],
      "execution_count": null,
      "outputs": [
        {
          "output_type": "stream",
          "text": [
            ">"
          ],
          "name": "stdout"
        }
      ]
    },
    {
      "cell_type": "code",
      "metadata": {
        "colab": {
          "base_uri": "https://localhost:8080/"
        },
        "id": "yLudWniRGmoV",
        "outputId": "cf3ce17a-9ffc-4a21-b69b-c0ddaba56b4b"
      },
      "source": [
        "#consume messages\n",
        "!/usr/local/kafka/bin/kafka-console-consumer.sh --bootstrap-server localhost:9092 --topic bigdata --from-beginning"
      ],
      "execution_count": null,
      "outputs": [
        {
          "output_type": "stream",
          "text": [
            "Processed a total of 21 messages\n"
          ],
          "name": "stdout"
        }
      ]
    },
    {
      "cell_type": "markdown",
      "metadata": {
        "id": "EljngJUCKbeI"
      },
      "source": [
        ""
      ]
    },
    {
      "cell_type": "code",
      "metadata": {
        "colab": {
          "base_uri": "https://localhost:8080/"
        },
        "id": "T9pkpdGEG6bz",
        "outputId": "e5b12b2a-803f-4430-fbe6-9286b38d757f"
      },
      "source": [
        "#let us now try to write a simple python program to produce and consume messages.\n",
        "!pip3 install kafka-python"
      ],
      "execution_count": 8,
      "outputs": [
        {
          "output_type": "stream",
          "text": [
            "Collecting kafka-python\n",
            "\u001b[?25l  Downloading https://files.pythonhosted.org/packages/75/68/dcb0db055309f680ab2931a3eeb22d865604b638acf8c914bedf4c1a0c8c/kafka_python-2.0.2-py2.py3-none-any.whl (246kB)\n",
            "\r\u001b[K     |█▎                              | 10kB 13.3MB/s eta 0:00:01\r\u001b[K     |██▋                             | 20kB 10.7MB/s eta 0:00:01\r\u001b[K     |████                            | 30kB 8.8MB/s eta 0:00:01\r\u001b[K     |█████▎                          | 40kB 7.4MB/s eta 0:00:01\r\u001b[K     |██████▋                         | 51kB 4.4MB/s eta 0:00:01\r\u001b[K     |████████                        | 61kB 5.0MB/s eta 0:00:01\r\u001b[K     |█████████▎                      | 71kB 5.1MB/s eta 0:00:01\r\u001b[K     |██████████▋                     | 81kB 5.0MB/s eta 0:00:01\r\u001b[K     |████████████                    | 92kB 5.0MB/s eta 0:00:01\r\u001b[K     |█████████████▎                  | 102kB 4.3MB/s eta 0:00:01\r\u001b[K     |██████████████▋                 | 112kB 4.3MB/s eta 0:00:01\r\u001b[K     |████████████████                | 122kB 4.3MB/s eta 0:00:01\r\u001b[K     |█████████████████▎              | 133kB 4.3MB/s eta 0:00:01\r\u001b[K     |██████████████████▋             | 143kB 4.3MB/s eta 0:00:01\r\u001b[K     |████████████████████            | 153kB 4.3MB/s eta 0:00:01\r\u001b[K     |█████████████████████▎          | 163kB 4.3MB/s eta 0:00:01\r\u001b[K     |██████████████████████▋         | 174kB 4.3MB/s eta 0:00:01\r\u001b[K     |████████████████████████        | 184kB 4.3MB/s eta 0:00:01\r\u001b[K     |█████████████████████████▎      | 194kB 4.3MB/s eta 0:00:01\r\u001b[K     |██████████████████████████▋     | 204kB 4.3MB/s eta 0:00:01\r\u001b[K     |████████████████████████████    | 215kB 4.3MB/s eta 0:00:01\r\u001b[K     |█████████████████████████████▎  | 225kB 4.3MB/s eta 0:00:01\r\u001b[K     |██████████████████████████████▋ | 235kB 4.3MB/s eta 0:00:01\r\u001b[K     |████████████████████████████████| 245kB 4.3MB/s eta 0:00:01\r\u001b[K     |████████████████████████████████| 256kB 4.3MB/s \n",
            "\u001b[?25hInstalling collected packages: kafka-python\n",
            "Successfully installed kafka-python-2.0.2\n"
          ],
          "name": "stdout"
        }
      ]
    },
    {
      "cell_type": "code",
      "metadata": {
        "colab": {
          "base_uri": "https://localhost:8080/"
        },
        "id": "42csg6GTHNkf",
        "outputId": "80e7ef01-fc5c-4d2c-c619-ded0c982b6eb"
      },
      "source": [
        "#kafka Producer\n",
        "from time import sleep\n",
        "from json import dumps\n",
        "from kafka import KafkaProducer\n",
        "producer = KafkaProducer(bootstrap_servers=['localhost:9092'],\n",
        "                         value_serializer=lambda x: \n",
        "                         dumps(x).encode('utf-8'))\n",
        "for e in range(10):\n",
        "    data = {'number' : e}\n",
        "    producer.send('bigdata', value=data)\n",
        "    print(\"sent {}\".format(data))\n",
        "    sleep(2)\n"
      ],
      "execution_count": 9,
      "outputs": [
        {
          "output_type": "stream",
          "text": [
            "sent {'number': 0}\n",
            "sent {'number': 1}\n",
            "sent {'number': 2}\n",
            "sent {'number': 3}\n",
            "sent {'number': 4}\n",
            "sent {'number': 5}\n",
            "sent {'number': 6}\n",
            "sent {'number': 7}\n",
            "sent {'number': 8}\n",
            "sent {'number': 9}\n"
          ],
          "name": "stdout"
        }
      ]
    },
    {
      "cell_type": "code",
      "metadata": {
        "colab": {
          "base_uri": "https://localhost:8080/"
        },
        "id": "D0AXC0flI4oe",
        "outputId": "5a7f8d9c-3c0b-46bc-edcb-63695e81c0bc"
      },
      "source": [
        "#so here is a basic consumer as well\n",
        "from kafka import KafkaConsumer\n",
        "from json import loads\n",
        "consumer = KafkaConsumer(\n",
        "    'bigdata',\n",
        "     bootstrap_servers=['localhost:9092'],\n",
        "     consumer_timeout_ms=1000,#important for stopping if there is no data\n",
        "     auto_offset_reset='earliest',\n",
        "     value_deserializer=lambda x: loads(x.decode('utf-8')))\n",
        "for message in consumer:\n",
        "    message = message.value   \n",
        "    print('got {}'.format(message))"
      ],
      "execution_count": 11,
      "outputs": [
        {
          "output_type": "stream",
          "text": [
            "got {'number': 0}\n",
            "got {'number': 1}\n",
            "got {'number': 2}\n",
            "got {'number': 3}\n",
            "got {'number': 4}\n",
            "got {'number': 5}\n",
            "got {'number': 6}\n",
            "got {'number': 7}\n",
            "got {'number': 8}\n",
            "got {'number': 9}\n"
          ],
          "name": "stdout"
        }
      ]
    }
  ]
}