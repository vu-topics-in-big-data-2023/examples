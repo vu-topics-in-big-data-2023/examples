{
  "nbformat": 4,
  "nbformat_minor": 0,
  "metadata": {
    "colab": {
      "provenance": []
    },
    "kernelspec": {
      "name": "python3",
      "display_name": "Python 3"
    },
    "language_info": {
      "name": "python"
    }
  },
  "cells": [
    {
      "cell_type": "markdown",
      "source": [
        "# Installing Mongodb"
      ],
      "metadata": {
        "id": "EBa9ffKeCRyO"
      }
    },
    {
      "cell_type": "code",
      "execution_count": 1,
      "metadata": {
        "colab": {
          "base_uri": "https://localhost:8080/"
        },
        "id": "mYbkBkyr_lwa",
        "outputId": "cebebe28-d839-4b4d-eae1-eb8739de201a"
      },
      "outputs": [
        {
          "output_type": "stream",
          "name": "stdout",
          "text": [
            "OK\n",
            "deb [ arch=amd64,arm64 ] https://repo.mongodb.org/apt/ubuntu focal/mongodb-org/6.0 multiverse\n",
            "debconf: unable to initialize frontend: Dialog\n",
            "debconf: (No usable dialog-like program is installed, so the dialog based frontend cannot be used. at /usr/share/perl5/Debconf/FrontEnd/Dialog.pm line 76, <> line 9.)\n",
            "debconf: falling back to frontend: Readline\n",
            "debconf: unable to initialize frontend: Readline\n",
            "debconf: (This frontend requires a controlling tty.)\n",
            "debconf: falling back to frontend: Teletype\n",
            "dpkg-preconfigure: unable to re-open stdin: \n"
          ]
        }
      ],
      "source": [
        "!wget -qO - https://www.mongodb.org/static/pgp/server-6.0.asc | sudo apt-key add -\n",
        "!echo \"deb [ arch=amd64,arm64 ] https://repo.mongodb.org/apt/ubuntu focal/mongodb-org/6.0 multiverse\" | sudo tee /etc/apt/sources.list.d/mongodb-org-6.0.list\n",
        "!sudo apt-get update > /dev/null\n",
        "!sudo apt-get -qq install -y mongodb-org > /dev/null\n",
        "!mkdir -p /data/db \n",
        "!mkdir -p /data/db/log"
      ]
    },
    {
      "cell_type": "markdown",
      "source": [
        "# Running Mongodb\n",
        "\n",
        "In order to run Mongodb, the mongod server must first be run. But, running a process in background in jupyter doesn't seem easy. A quick fix is to just use python's os module and use the & character to run mongod in background. (For some reason, colab doesn't recognize mongod service)."
      ],
      "metadata": {
        "id": "jd3li4beCbwc"
      }
    },
    {
      "cell_type": "code",
      "source": [
        "import os\n",
        "os.system('mongod &')"
      ],
      "metadata": {
        "colab": {
          "base_uri": "https://localhost:8080/"
        },
        "id": "amPrO35xCbJ_",
        "outputId": "74ed8468-b0b0-44d7-eea1-d3202250e32d"
      },
      "execution_count": 2,
      "outputs": [
        {
          "output_type": "execute_result",
          "data": {
            "text/plain": [
              "0"
            ]
          },
          "metadata": {},
          "execution_count": 2
        }
      ]
    },
    {
      "cell_type": "markdown",
      "source": [
        "It may not look like it, but the mongodb process is running in the background. We can verify by querying the port 27017. There will be a message that says MongoDB is being accessed over HTTP. But it at least shows that mongodb is up."
      ],
      "metadata": {
        "id": "AxMHwfTnCwKM"
      }
    },
    {
      "cell_type": "markdown",
      "source": [],
      "metadata": {
        "id": "I-ofG8zODDjC"
      }
    },
    {
      "cell_type": "code",
      "source": [
        "!curl localhost:27017"
      ],
      "metadata": {
        "colab": {
          "base_uri": "https://localhost:8080/"
        },
        "id": "c-C_Yy4vC2kM",
        "outputId": "d54e16fa-832d-43f8-d8f2-5d342a8e06e9"
      },
      "execution_count": 3,
      "outputs": [
        {
          "output_type": "stream",
          "name": "stdout",
          "text": [
            "It looks like you are trying to access MongoDB over HTTP on the native driver port.\r\n"
          ]
        }
      ]
    },
    {
      "cell_type": "markdown",
      "source": [
        "#Installing pymongo\n",
        "\n",
        "A standard client to use with MongoDB is pymongo in python."
      ],
      "metadata": {
        "id": "6CsXzmEEDHqc"
      }
    },
    {
      "cell_type": "code",
      "source": [
        "!pip install pymongo"
      ],
      "metadata": {
        "colab": {
          "base_uri": "https://localhost:8080/"
        },
        "id": "1aPr1M39DEIt",
        "outputId": "6b3f3543-d532-42a7-f2be-5e53f9909edc"
      },
      "execution_count": 4,
      "outputs": [
        {
          "output_type": "stream",
          "name": "stdout",
          "text": [
            "Looking in indexes: https://pypi.org/simple, https://us-python.pkg.dev/colab-wheels/public/simple/\n",
            "Requirement already satisfied: pymongo in /usr/local/lib/python3.8/dist-packages (4.3.3)\n",
            "Requirement already satisfied: dnspython<3.0.0,>=1.16.0 in /usr/local/lib/python3.8/dist-packages (from pymongo) (2.3.0)\n"
          ]
        }
      ]
    },
    {
      "cell_type": "markdown",
      "source": [
        "We have installed pymongo. The basic code that follows is a part of the standard pymongo tutorial. Nevertheless, it's beneficial to execute and see by ourselves."
      ],
      "metadata": {
        "id": "Xlk7x6jbDUX2"
      }
    },
    {
      "cell_type": "markdown",
      "source": [
        "# Creating a MongoDB Connection"
      ],
      "metadata": {
        "id": "-vOeIfjMDi3y"
      }
    },
    {
      "cell_type": "code",
      "source": [
        "from pymongo import MongoClient\n",
        "client = MongoClient()\n",
        "client"
      ],
      "metadata": {
        "colab": {
          "base_uri": "https://localhost:8080/"
        },
        "id": "Zx0j24jRDmyc",
        "outputId": "a9f6ab56-7975-4042-c8ee-8afd25e1d5a9"
      },
      "execution_count": 5,
      "outputs": [
        {
          "output_type": "execute_result",
          "data": {
            "text/plain": [
              "MongoClient(host=['localhost:27017'], document_class=dict, tz_aware=False, connect=True)"
            ]
          },
          "metadata": {},
          "execution_count": 5
        }
      ]
    },
    {
      "cell_type": "markdown",
      "source": [
        "We got a valid connection which means everything's working till now. Let's work with a database now. Let's go ahead a create a new one."
      ],
      "metadata": {
        "id": "BpATiwbpDtvN"
      }
    },
    {
      "cell_type": "code",
      "source": [
        "db = client.test_database #or client['test_database']\n",
        "db"
      ],
      "metadata": {
        "colab": {
          "base_uri": "https://localhost:8080/"
        },
        "id": "RD7UGU1fDtYx",
        "outputId": "7f4ca5a9-1381-4df3-946d-45e01fa0cb75"
      },
      "execution_count": 6,
      "outputs": [
        {
          "output_type": "execute_result",
          "data": {
            "text/plain": [
              "Database(MongoClient(host=['localhost:27017'], document_class=dict, tz_aware=False, connect=True), 'test_database')"
            ]
          },
          "metadata": {},
          "execution_count": 6
        }
      ]
    },
    {
      "cell_type": "markdown",
      "source": [
        "Let's create a new collection in the database. (Think of collections as tables)."
      ],
      "metadata": {
        "id": "xo829KPaEYD4"
      }
    },
    {
      "cell_type": "code",
      "source": [
        "posts = db.posts  # or db['posts'] ... if the collection doesn't exist, mongodb creates one for you."
      ],
      "metadata": {
        "id": "vdzd7A-sEeGd"
      },
      "execution_count": 7,
      "outputs": []
    },
    {
      "cell_type": "markdown",
      "source": [
        "Let's insert an item. Remember that Mongodb documents are jsons."
      ],
      "metadata": {
        "id": "LO2aeAqKLEDz"
      }
    },
    {
      "cell_type": "code",
      "source": [
        "import datetime\n",
        "post = {\"author\": \"Mike\",\n",
        "        \"text\": \"My first blog post!\",\n",
        "        \"tags\": [\"mongodb\", \"python\", \"pymongo\"],\n",
        "        \"date\": datetime.datetime.utcnow()}\n",
        "post"
      ],
      "metadata": {
        "colab": {
          "base_uri": "https://localhost:8080/"
        },
        "id": "rDQhYclEK9o5",
        "outputId": "13b04612-efa7-4578-d6e0-725a8716b78e"
      },
      "execution_count": 8,
      "outputs": [
        {
          "output_type": "execute_result",
          "data": {
            "text/plain": [
              "{'author': 'Mike',\n",
              " 'text': 'My first blog post!',\n",
              " 'tags': ['mongodb', 'python', 'pymongo'],\n",
              " 'date': datetime.datetime(2023, 2, 15, 3, 33, 21, 293166)}"
            ]
          },
          "metadata": {},
          "execution_count": 8
        }
      ]
    },
    {
      "cell_type": "markdown",
      "source": [
        "We can use `insert_one` method to insert a document."
      ],
      "metadata": {
        "id": "hpJ7mfQLLT29"
      }
    },
    {
      "cell_type": "code",
      "source": [
        "insert = posts.insert_one(post)\n",
        "insert.inserted_id"
      ],
      "metadata": {
        "colab": {
          "base_uri": "https://localhost:8080/"
        },
        "id": "sVhMioALLLLT",
        "outputId": "0a9d2278-0907-465e-f4df-b22046e48415"
      },
      "execution_count": 9,
      "outputs": [
        {
          "output_type": "execute_result",
          "data": {
            "text/plain": [
              "ObjectId('63ec52810fd9afa45ffc6c77')"
            ]
          },
          "metadata": {},
          "execution_count": 9
        }
      ]
    },
    {
      "cell_type": "markdown",
      "source": [
        "You can now see that a collection is present in our database."
      ],
      "metadata": {
        "id": "Rn9PGoGxL0yz"
      }
    },
    {
      "cell_type": "code",
      "source": [
        "db.list_collection_names()"
      ],
      "metadata": {
        "colab": {
          "base_uri": "https://localhost:8080/"
        },
        "id": "ygOEUyM_LZz7",
        "outputId": "7d3af1b9-39c6-4a3b-96d8-400fe8434d4b"
      },
      "execution_count": 10,
      "outputs": [
        {
          "output_type": "execute_result",
          "data": {
            "text/plain": [
              "['posts']"
            ]
          },
          "metadata": {},
          "execution_count": 10
        }
      ]
    },
    {
      "cell_type": "markdown",
      "source": [
        "Let's insert a few more documents. We can insert many documents by using a `bulk_insert` method."
      ],
      "metadata": {
        "id": "v5U8FpEGL7Gr"
      }
    },
    {
      "cell_type": "code",
      "source": [
        "post1 = {\"author\": \"Socrates\",\n",
        "        \"text\": \"I know nothing!\",\n",
        "        \"tags\": [\"philosophy\", \"greek\", \"pymongo\"],\n",
        "        \"date\": datetime.datetime.utcnow()}\n",
        "\n",
        "post2 = {\"author\": \"Plato\",\n",
        "        \"text\": \"If you lie, at least make it noble!\",\n",
        "        \"tags\": [\"socrates\", \"lies\", \"pymongo\"],\n",
        "        \"date\": datetime.datetime.utcnow()}\n",
        "\n",
        "post3 = {\"author\": \"Pravesh\",\n",
        "        \"text\": \"Greek Philosophy confuses me!\",\n",
        "        \"tags\": [\"greek\", \"study\", \"boring\"],\n",
        "        \"date\": datetime.datetime.utcnow()}\n",
        "\n",
        "post4 = {\"author\": \"Pravesh\",\n",
        "        \"text\": \"Greek Philosophy confuses me a lot!\",\n",
        "        \"tags\": [\"greek\", \"study\", \"tired\"],\n",
        "        \"date\": datetime.datetime.utcnow()}\n",
        "\n",
        "all_posts = [post1, post2, post3, post4]\n",
        "many_inserts = posts.insert_many(all_posts)\n",
        "many_inserts.inserted_ids"
      ],
      "metadata": {
        "colab": {
          "base_uri": "https://localhost:8080/"
        },
        "id": "ovwL0-ilL_9y",
        "outputId": "869c0c65-e063-4fdb-9a34-fa46f4616347"
      },
      "execution_count": 11,
      "outputs": [
        {
          "output_type": "execute_result",
          "data": {
            "text/plain": [
              "[ObjectId('63ec52810fd9afa45ffc6c78'),\n",
              " ObjectId('63ec52810fd9afa45ffc6c79'),\n",
              " ObjectId('63ec52810fd9afa45ffc6c7a'),\n",
              " ObjectId('63ec52810fd9afa45ffc6c7b')]"
            ]
          },
          "metadata": {},
          "execution_count": 11
        }
      ]
    },
    {
      "cell_type": "markdown",
      "source": [
        "Querying a single document can be done using a `find_one` command."
      ],
      "metadata": {
        "id": "D-wxdCSqMork"
      }
    },
    {
      "cell_type": "code",
      "source": [
        "posts.find_one()"
      ],
      "metadata": {
        "colab": {
          "base_uri": "https://localhost:8080/"
        },
        "id": "QSIScq8OMu4C",
        "outputId": "57dc5d13-b36f-43e0-bcab-d61a1a4e4a3e"
      },
      "execution_count": 12,
      "outputs": [
        {
          "output_type": "execute_result",
          "data": {
            "text/plain": [
              "{'_id': ObjectId('63ec52810fd9afa45ffc6c77'),\n",
              " 'author': 'Mike',\n",
              " 'text': 'My first blog post!',\n",
              " 'tags': ['mongodb', 'python', 'pymongo'],\n",
              " 'date': datetime.datetime(2023, 2, 15, 3, 33, 21, 293000)}"
            ]
          },
          "metadata": {},
          "execution_count": 12
        }
      ]
    },
    {
      "cell_type": "markdown",
      "source": [
        "It just gave us the first document. We can also retrieve posts by a specific author."
      ],
      "metadata": {
        "id": "tLxWXvnfMyYi"
      }
    },
    {
      "cell_type": "code",
      "source": [
        "posts.find_one({\"author\": \"Plato\"})"
      ],
      "metadata": {
        "colab": {
          "base_uri": "https://localhost:8080/"
        },
        "id": "92BtqdpmM7zb",
        "outputId": "a756b5f3-7feb-4637-e283-7cdf1cc9253a"
      },
      "execution_count": 13,
      "outputs": [
        {
          "output_type": "execute_result",
          "data": {
            "text/plain": [
              "{'_id': ObjectId('63ec52810fd9afa45ffc6c79'),\n",
              " 'author': 'Plato',\n",
              " 'text': 'If you lie, at least make it noble!',\n",
              " 'tags': ['socrates', 'lies', 'pymongo'],\n",
              " 'date': datetime.datetime(2023, 2, 15, 3, 33, 21, 374000)}"
            ]
          },
          "metadata": {},
          "execution_count": 13
        }
      ]
    },
    {
      "cell_type": "markdown",
      "source": [
        "If we try to find non-existent records, we will not get any results at all!"
      ],
      "metadata": {
        "id": "lFR7XP45NAsX"
      }
    },
    {
      "cell_type": "code",
      "source": [
        "posts.find_one({\"author\": \"Diogenes\"})"
      ],
      "metadata": {
        "id": "I__9sbtJNHjc"
      },
      "execution_count": 14,
      "outputs": []
    },
    {
      "cell_type": "markdown",
      "source": [
        "We can find a document by using its object id as well. For example, in the insert above, Socrates' object id was 63e67354a8e8ba18f1038690. Let's go ahead and use it."
      ],
      "metadata": {
        "id": "D4BekxvMNLi-"
      }
    },
    {
      "cell_type": "code",
      "source": [
        "posts.find_one({\"_id\": \"63e67354a8e8ba18f1038690\"})"
      ],
      "metadata": {
        "id": "1PknDrSsNW8L"
      },
      "execution_count": 15,
      "outputs": []
    },
    {
      "cell_type": "markdown",
      "source": [
        "No result! Unfortunately, MongoDB has a special representation for objectID. We can't just use strings to query the id."
      ],
      "metadata": {
        "id": "CDRHkBytNh6N"
      }
    },
    {
      "cell_type": "code",
      "source": [
        "from bson.objectid import ObjectId\n",
        "posts.find_one({\"_id\": ObjectId(\"63e67354a8e8ba18f1038690\")})"
      ],
      "metadata": {
        "id": "tj51mGVkNpMv"
      },
      "execution_count": 16,
      "outputs": []
    },
    {
      "cell_type": "markdown",
      "source": [
        "Found it! BSON is an extended version of JSON that supports Binary objects."
      ],
      "metadata": {
        "id": "t_jx8y-fNx0q"
      }
    },
    {
      "cell_type": "markdown",
      "source": [
        "We can query for more than one documents as well."
      ],
      "metadata": {
        "id": "LIRt8vSCN2AP"
      }
    },
    {
      "cell_type": "code",
      "source": [
        "result = posts.find({\"author\": \"Pravesh\"})\n",
        "result"
      ],
      "metadata": {
        "colab": {
          "base_uri": "https://localhost:8080/"
        },
        "id": "qFkc2v4ON6FA",
        "outputId": "5bbc7c0b-6dc1-4f25-932a-5ee15637bbe8"
      },
      "execution_count": 17,
      "outputs": [
        {
          "output_type": "execute_result",
          "data": {
            "text/plain": [
              "<pymongo.cursor.Cursor at 0x7f44cc96a190>"
            ]
          },
          "metadata": {},
          "execution_count": 17
        }
      ]
    },
    {
      "cell_type": "markdown",
      "source": [
        "However, the result of this operation is not a python dictionary like the one we had before. This is because a find operation may result in thousands and thousands of records. You wouldn't want to download all of them, as it may end up taking you lots of time! Instead, you can iterate over a cursor in multiple ways."
      ],
      "metadata": {
        "id": "azeL9aXpOJOh"
      }
    },
    {
      "cell_type": "code",
      "source": [
        "for c in result:\n",
        "  print (c)"
      ],
      "metadata": {
        "colab": {
          "base_uri": "https://localhost:8080/"
        },
        "id": "yM5TAixMOalT",
        "outputId": "4e52e2d5-ddcb-4cee-b823-0a046e90b9ed"
      },
      "execution_count": 18,
      "outputs": [
        {
          "output_type": "stream",
          "name": "stdout",
          "text": [
            "{'_id': ObjectId('63ec52810fd9afa45ffc6c7a'), 'author': 'Pravesh', 'text': 'Greek Philosophy confuses me!', 'tags': ['greek', 'study', 'boring'], 'date': datetime.datetime(2023, 2, 15, 3, 33, 21, 374000)}\n",
            "{'_id': ObjectId('63ec52810fd9afa45ffc6c7b'), 'author': 'Pravesh', 'text': 'Greek Philosophy confuses me a lot!', 'tags': ['greek', 'study', 'tired'], 'date': datetime.datetime(2023, 2, 15, 3, 33, 21, 374000)}\n"
          ]
        }
      ]
    },
    {
      "cell_type": "markdown",
      "source": [
        "Alternatively, you can also just create a list out of it. You'll have to query it once more before doing that becase the iterator right now is empty."
      ],
      "metadata": {
        "id": "CLpS712vPpnB"
      }
    },
    {
      "cell_type": "code",
      "source": [
        "result = posts.find({\"author\": \"Pravesh\"})\n",
        "l = list(result)\n",
        "l"
      ],
      "metadata": {
        "colab": {
          "base_uri": "https://localhost:8080/"
        },
        "id": "13UqZnZ-PwlR",
        "outputId": "0d1e5c59-83ca-4d79-afd1-1e012f4e9a0a"
      },
      "execution_count": 19,
      "outputs": [
        {
          "output_type": "execute_result",
          "data": {
            "text/plain": [
              "[{'_id': ObjectId('63ec52810fd9afa45ffc6c7a'),\n",
              "  'author': 'Pravesh',\n",
              "  'text': 'Greek Philosophy confuses me!',\n",
              "  'tags': ['greek', 'study', 'boring'],\n",
              "  'date': datetime.datetime(2023, 2, 15, 3, 33, 21, 374000)},\n",
              " {'_id': ObjectId('63ec52810fd9afa45ffc6c7b'),\n",
              "  'author': 'Pravesh',\n",
              "  'text': 'Greek Philosophy confuses me a lot!',\n",
              "  'tags': ['greek', 'study', 'tired'],\n",
              "  'date': datetime.datetime(2023, 2, 15, 3, 33, 21, 374000)}]"
            ]
          },
          "metadata": {},
          "execution_count": 19
        }
      ]
    },
    {
      "cell_type": "markdown",
      "source": [
        "See, now it's easier to deal with."
      ],
      "metadata": {
        "id": "iYVtO_71P0pI"
      }
    },
    {
      "cell_type": "markdown",
      "source": [
        "Let's count how many documents we have made till now."
      ],
      "metadata": {
        "id": "OaEiy5IPP4j9"
      }
    },
    {
      "cell_type": "code",
      "source": [
        "posts.count_documents({})"
      ],
      "metadata": {
        "colab": {
          "base_uri": "https://localhost:8080/"
        },
        "id": "ckRXfasHP367",
        "outputId": "332d9036-9427-403f-a16a-c28bca0d4b7d"
      },
      "execution_count": 20,
      "outputs": [
        {
          "output_type": "execute_result",
          "data": {
            "text/plain": [
              "5"
            ]
          },
          "metadata": {},
          "execution_count": 20
        }
      ]
    },
    {
      "cell_type": "markdown",
      "source": [
        "You can also count by specific fields."
      ],
      "metadata": {
        "id": "a5ZsG_u8QB4Y"
      }
    },
    {
      "cell_type": "code",
      "source": [
        "posts.count_documents({\"author\": \"Pravesh\"})"
      ],
      "metadata": {
        "colab": {
          "base_uri": "https://localhost:8080/"
        },
        "id": "HPStUM9dQD-T",
        "outputId": "db92911a-6a92-43cc-ace6-c3e314c85396"
      },
      "execution_count": 21,
      "outputs": [
        {
          "output_type": "execute_result",
          "data": {
            "text/plain": [
              "2"
            ]
          },
          "metadata": {},
          "execution_count": 21
        }
      ]
    },
    {
      "cell_type": "markdown",
      "source": [
        "#Updating and Deleting"
      ],
      "metadata": {
        "id": "RpxMnNI6QH4h"
      }
    },
    {
      "cell_type": "markdown",
      "source": [
        "Like before, you can update either one document, or multiple documents. Let's start with update one. This method will update the first document it encounters. If you pass an empty filter, then that would mean that it'd update the first document of the collection. If you pass a non-empty filter, it'd update the first result."
      ],
      "metadata": {
        "id": "m5jInKXmQJr0"
      }
    },
    {
      "cell_type": "code",
      "source": [
        "update = posts.update_one({\"author\": \"Pravesh\"}, # filter. Could just be empty as well i.e. {}\n",
        "                          {\"$set\": {\"text\": \"I love Greek Philosophy!\"}})\n",
        "update"
      ],
      "metadata": {
        "colab": {
          "base_uri": "https://localhost:8080/"
        },
        "id": "rZhF7eJtQt9t",
        "outputId": "9c1e8359-c7c4-4d93-dc73-881900138bfc"
      },
      "execution_count": 22,
      "outputs": [
        {
          "output_type": "execute_result",
          "data": {
            "text/plain": [
              "<pymongo.results.UpdateResult at 0x7f44cc96aca0>"
            ]
          },
          "metadata": {},
          "execution_count": 22
        }
      ]
    },
    {
      "cell_type": "markdown",
      "source": [
        "Let's see if we have updated results!"
      ],
      "metadata": {
        "id": "J-mIfBlzRf0y"
      }
    },
    {
      "cell_type": "code",
      "source": [
        "list(posts.find({\"author\": \"Pravesh\"}))"
      ],
      "metadata": {
        "colab": {
          "base_uri": "https://localhost:8080/"
        },
        "id": "LDa2b1QBRZkz",
        "outputId": "57c5ab98-667a-4199-cf90-36bdce974c3e"
      },
      "execution_count": 23,
      "outputs": [
        {
          "output_type": "execute_result",
          "data": {
            "text/plain": [
              "[{'_id': ObjectId('63ec52810fd9afa45ffc6c7a'),\n",
              "  'author': 'Pravesh',\n",
              "  'text': 'I love Greek Philosophy!',\n",
              "  'tags': ['greek', 'study', 'boring'],\n",
              "  'date': datetime.datetime(2023, 2, 15, 3, 33, 21, 374000)},\n",
              " {'_id': ObjectId('63ec52810fd9afa45ffc6c7b'),\n",
              "  'author': 'Pravesh',\n",
              "  'text': 'Greek Philosophy confuses me a lot!',\n",
              "  'tags': ['greek', 'study', 'tired'],\n",
              "  'date': datetime.datetime(2023, 2, 15, 3, 33, 21, 374000)}]"
            ]
          },
          "metadata": {},
          "execution_count": 23
        }
      ]
    },
    {
      "cell_type": "markdown",
      "source": [
        "Success. Now we can go ahead and update many records at once as well."
      ],
      "metadata": {
        "id": "bNJcOd-CRiuU"
      }
    },
    {
      "cell_type": "code",
      "source": [
        "update = posts.update_many({\"author\": \"Pravesh\"}, # filter. Could just be empty as well i.e. {}\n",
        "                          {\"$set\": {\"text\": \"I absolutely love Greek Philosophy!!!\"}})\n",
        "list(posts.find({\"author\": \"Pravesh\"}))"
      ],
      "metadata": {
        "colab": {
          "base_uri": "https://localhost:8080/"
        },
        "id": "St-J6T_WRmm6",
        "outputId": "d64ae21b-a7bd-4c87-996f-8c5fc5e868fa"
      },
      "execution_count": 24,
      "outputs": [
        {
          "output_type": "execute_result",
          "data": {
            "text/plain": [
              "[{'_id': ObjectId('63ec52810fd9afa45ffc6c7a'),\n",
              "  'author': 'Pravesh',\n",
              "  'text': 'I absolutely love Greek Philosophy!!!',\n",
              "  'tags': ['greek', 'study', 'boring'],\n",
              "  'date': datetime.datetime(2023, 2, 15, 3, 33, 21, 374000)},\n",
              " {'_id': ObjectId('63ec52810fd9afa45ffc6c7b'),\n",
              "  'author': 'Pravesh',\n",
              "  'text': 'I absolutely love Greek Philosophy!!!',\n",
              "  'tags': ['greek', 'study', 'tired'],\n",
              "  'date': datetime.datetime(2023, 2, 15, 3, 33, 21, 374000)}]"
            ]
          },
          "metadata": {},
          "execution_count": 24
        }
      ]
    },
    {
      "cell_type": "markdown",
      "source": [
        "As you can see, the posts have been updated and apparently, I now love greek philosophy.\n",
        "\n",
        "Now we can go ahead and delete stuffs. The deletion works the same was as update. You have a filter which you use to decide which documents to delete and you either use a delete_one or delete_many function depending upon the numbers of document you want to delete. In our case, let's go ahead and delete everything that's posted by either Plato or Socrates. This would involve a complex query.\n",
        "\n",
        "So before we delete, let's verify if we can obtain the documents that we do want to delete."
      ],
      "metadata": {
        "id": "potnR63XRxcQ"
      }
    },
    {
      "cell_type": "code",
      "source": [
        "list(posts.find({\"$or\": [{\"author\": \"Plato\"}, {\"author\": \"Socrates\"}]}))"
      ],
      "metadata": {
        "colab": {
          "base_uri": "https://localhost:8080/"
        },
        "id": "Y8fQI4BzRu0t",
        "outputId": "e8b3a99d-9408-4686-92a5-9d096cecbd1c"
      },
      "execution_count": 25,
      "outputs": [
        {
          "output_type": "execute_result",
          "data": {
            "text/plain": [
              "[{'_id': ObjectId('63ec52810fd9afa45ffc6c78'),\n",
              "  'author': 'Socrates',\n",
              "  'text': 'I know nothing!',\n",
              "  'tags': ['philosophy', 'greek', 'pymongo'],\n",
              "  'date': datetime.datetime(2023, 2, 15, 3, 33, 21, 374000)},\n",
              " {'_id': ObjectId('63ec52810fd9afa45ffc6c79'),\n",
              "  'author': 'Plato',\n",
              "  'text': 'If you lie, at least make it noble!',\n",
              "  'tags': ['socrates', 'lies', 'pymongo'],\n",
              "  'date': datetime.datetime(2023, 2, 15, 3, 33, 21, 374000)}]"
            ]
          },
          "metadata": {},
          "execution_count": 25
        }
      ]
    },
    {
      "cell_type": "markdown",
      "source": [
        "So we can obtain the records. Now we use the same filter to delete many documents at once using the delete_many function."
      ],
      "metadata": {
        "id": "BgyLIKb_TDpX"
      }
    },
    {
      "cell_type": "code",
      "source": [
        "posts.delete_many({\"$or\": [{\"author\": \"Plato\"}, {\"author\": \"Socrates\"}]})"
      ],
      "metadata": {
        "colab": {
          "base_uri": "https://localhost:8080/"
        },
        "id": "5T1xV7wmTJk4",
        "outputId": "c518fe07-f3b9-41de-a929-88c23fe30980"
      },
      "execution_count": 26,
      "outputs": [
        {
          "output_type": "execute_result",
          "data": {
            "text/plain": [
              "<pymongo.results.DeleteResult at 0x7f44cc96a370>"
            ]
          },
          "metadata": {},
          "execution_count": 26
        }
      ]
    },
    {
      "cell_type": "markdown",
      "source": [
        "To verify that our documents have been deleted, let's count our documents again. We know that we started out with 5 documents. Let's see how many remain."
      ],
      "metadata": {
        "id": "z0CHmm5YTNX1"
      }
    },
    {
      "cell_type": "code",
      "source": [
        "posts.count_documents({})"
      ],
      "metadata": {
        "colab": {
          "base_uri": "https://localhost:8080/"
        },
        "id": "H7Te-HskTT-0",
        "outputId": "b04d03cd-0917-4a65-d7d1-d779c64915cb"
      },
      "execution_count": 27,
      "outputs": [
        {
          "output_type": "execute_result",
          "data": {
            "text/plain": [
              "3"
            ]
          },
          "metadata": {},
          "execution_count": 27
        }
      ]
    },
    {
      "cell_type": "markdown",
      "source": [
        "Success! We have successfully deleted the two documents. \n"
      ],
      "metadata": {
        "id": "TKZT0yuwTWRA"
      }
    },
    {
      "cell_type": "markdown",
      "source": [
        "# Aggregation Pipeline\n",
        "\n",
        "Aggregation pipelines in MongoDB are used to do complex queries, joins, and aggregations. The example below is based on the one from official Mongo documentation."
      ],
      "metadata": {
        "id": "q84GEpLXFbqy"
      }
    },
    {
      "cell_type": "markdown",
      "source": [
        "Let's create a new collection and instantiate it with a few documents."
      ],
      "metadata": {
        "id": "go8w0He7Ftb2"
      }
    },
    {
      "cell_type": "code",
      "source": [
        "ISODate = lambda s: datetime.datetime.strptime(s, \"%Y-%m-%dT%H:%M:%SZ\")"
      ],
      "metadata": {
        "id": "cQbVuBe4GiBi"
      },
      "execution_count": 28,
      "outputs": []
    },
    {
      "cell_type": "code",
      "source": [
        "orders = db.orders\n",
        "inserts = orders.insert_many([\n",
        "   { \"_id\": 0, \"name\": \"Pepperoni\", \"size\": \"small\", \"price\": 19,\n",
        "     \"quantity\": 10, \"date\": ISODate( \"2021-03-13T08:14:30Z\" ) },\n",
        "   { \"_id\": 1, \"name\": \"Pepperoni\", \"size\": \"medium\", \"price\": 20,\n",
        "     \"quantity\": 20, \"date\" : ISODate( \"2021-03-13T09:13:24Z\" ) },\n",
        "   { \"_id\": 2, \"name\": \"Pepperoni\", \"size\": \"large\", \"price\": 21,\n",
        "     \"quantity\": 30, \"date\" : ISODate( \"2021-03-17T09:22:12Z\" ) },\n",
        "   { \"_id\": 3, \"name\": \"Cheese\", \"size\": \"small\", \"price\": 12,\n",
        "     \"quantity\": 15, \"date\" : ISODate( \"2021-03-13T11:21:39Z\" ) },\n",
        "   { \"_id\": 4, \"name\": \"Cheese\", \"size\": \"medium\", \"price\": 13,\n",
        "     \"quantity\": 50, \"date\" : ISODate( \"2022-01-12T21:23:13Z\" ) },\n",
        "   { \"_id\": 5, \"name\": \"Cheese\", \"size\": \"large\", \"price\": 14,\n",
        "     \"quantity\": 10, \"date\" : ISODate( \"2022-01-12T05:08:13Z\" ) },\n",
        "   { \"_id\": 6, \"name\": \"Vegan\", \"size\": \"small\", \"price\": 17,\n",
        "     \"quantity\": 10, \"date\" : ISODate( \"2021-01-13T05:08:13Z\" ) },\n",
        "   { \"_id\": 7, \"name\": \"Vegan\", \"size\": \"medium\", \"price\": 18,\n",
        "     \"quantity\": 10, \"date\" : ISODate( \"2021-01-13T05:10:13Z\" ) }\n",
        "] )\n",
        "inserts.inserted_ids"
      ],
      "metadata": {
        "colab": {
          "base_uri": "https://localhost:8080/"
        },
        "id": "TsYt_MAaFbMI",
        "outputId": "4ea81b25-e894-454c-c58b-5e3bb321cb12"
      },
      "execution_count": 29,
      "outputs": [
        {
          "output_type": "execute_result",
          "data": {
            "text/plain": [
              "[0, 1, 2, 3, 4, 5, 6, 7]"
            ]
          },
          "metadata": {},
          "execution_count": 29
        }
      ]
    },
    {
      "cell_type": "markdown",
      "source": [
        "We can obtain specific columns of the collections that fulfill certain criteria by using match and project operators. For example, to obtain all records of Vegan small size pizza, we could do:"
      ],
      "metadata": {
        "id": "HYkFQR_bJ3iu"
      }
    },
    {
      "cell_type": "code",
      "source": [
        "result = orders.aggregate([\n",
        "    # The first stage of aggregation is a match query that filters your document and gives you a subset of it.\n",
        "    # you can use complex queries here as well using operators such as $and, $or etc\n",
        "    {\"$match\": {\"size\": \"small\", \"name\": \"Vegan\"}},\n",
        "    # The second stage of aggregation i.e. project lets you specify what results to return.\n",
        "    {\"$project\": {\"_id\":1, \"name\": 1, \"date\":1, \"size\":1}}  # specify 1 to obtain the column. Excluded columns are not shown.\n",
        "])\n",
        "list(result)"
      ],
      "metadata": {
        "colab": {
          "base_uri": "https://localhost:8080/"
        },
        "id": "0gMescU9KCCC",
        "outputId": "cd97ca4b-de47-4811-d83c-096462871099"
      },
      "execution_count": 30,
      "outputs": [
        {
          "output_type": "execute_result",
          "data": {
            "text/plain": [
              "[{'_id': 6,\n",
              "  'name': 'Vegan',\n",
              "  'size': 'small',\n",
              "  'date': datetime.datetime(2021, 1, 13, 5, 8, 13)}]"
            ]
          },
          "metadata": {},
          "execution_count": 30
        }
      ]
    },
    {
      "cell_type": "markdown",
      "source": [
        "We can also use project operator to rename columns and do simple mathematical operations on the columns. For example, let's rename the `name` field to `type` and let's obtain the price of the pizza in `cents` instead of dollars."
      ],
      "metadata": {
        "id": "882hsdD3KXC2"
      }
    },
    {
      "cell_type": "code",
      "source": [
        "result = orders.aggregate([\n",
        "    {\"$project\": {\"_id\":1, \"type\": \"$name\", \"date\":1, \"size\":1, \n",
        "                  \"price\": {\"$multiply\": [\"$price\", 100]}}} # select name as type, price*100 as price ... FROM ... \n",
        "])\n",
        "list(result)"
      ],
      "metadata": {
        "colab": {
          "base_uri": "https://localhost:8080/"
        },
        "id": "KbOcSvbWKkIZ",
        "outputId": "a4b818db-794b-478a-86b9-7d64f7d2b19d"
      },
      "execution_count": 31,
      "outputs": [
        {
          "output_type": "execute_result",
          "data": {
            "text/plain": [
              "[{'_id': 0,\n",
              "  'size': 'small',\n",
              "  'date': datetime.datetime(2021, 3, 13, 8, 14, 30),\n",
              "  'type': 'Pepperoni',\n",
              "  'price': 1900},\n",
              " {'_id': 1,\n",
              "  'size': 'medium',\n",
              "  'date': datetime.datetime(2021, 3, 13, 9, 13, 24),\n",
              "  'type': 'Pepperoni',\n",
              "  'price': 2000},\n",
              " {'_id': 2,\n",
              "  'size': 'large',\n",
              "  'date': datetime.datetime(2021, 3, 17, 9, 22, 12),\n",
              "  'type': 'Pepperoni',\n",
              "  'price': 2100},\n",
              " {'_id': 3,\n",
              "  'size': 'small',\n",
              "  'date': datetime.datetime(2021, 3, 13, 11, 21, 39),\n",
              "  'type': 'Cheese',\n",
              "  'price': 1200},\n",
              " {'_id': 4,\n",
              "  'size': 'medium',\n",
              "  'date': datetime.datetime(2022, 1, 12, 21, 23, 13),\n",
              "  'type': 'Cheese',\n",
              "  'price': 1300},\n",
              " {'_id': 5,\n",
              "  'size': 'large',\n",
              "  'date': datetime.datetime(2022, 1, 12, 5, 8, 13),\n",
              "  'type': 'Cheese',\n",
              "  'price': 1400},\n",
              " {'_id': 6,\n",
              "  'size': 'small',\n",
              "  'date': datetime.datetime(2021, 1, 13, 5, 8, 13),\n",
              "  'type': 'Vegan',\n",
              "  'price': 1700},\n",
              " {'_id': 7,\n",
              "  'size': 'medium',\n",
              "  'date': datetime.datetime(2021, 1, 13, 5, 10, 13),\n",
              "  'type': 'Vegan',\n",
              "  'price': 1800}]"
            ]
          },
          "metadata": {},
          "execution_count": 31
        }
      ]
    },
    {
      "cell_type": "markdown",
      "source": [
        "We can now use aggregations. To calculate the total order quantity for medium sized pizzas as follows:"
      ],
      "metadata": {
        "id": "MPiN96h_FgK8"
      }
    },
    {
      "cell_type": "code",
      "source": [
        "result = orders.aggregate([\n",
        "    # The first stage of aggregation is a match query that filters your document and gives you a subset of it.\n",
        "    # you can use complex queries here as well using operators such as $and, $or etc\n",
        "    {\"$match\": {\"size\": \"medium\"}},\n",
        "\n",
        "    # This stage of aggregation is what's called a group. Here we reduce the collection to summary statistics.\n",
        "    {\"$group\": {\"_id\": \"$name\", \"totalQuantity\": {\"$sum\": \"$quantity\"}}}\n",
        "])\n",
        "list(result)"
      ],
      "metadata": {
        "id": "1n2mMGk0I0h2",
        "colab": {
          "base_uri": "https://localhost:8080/"
        },
        "outputId": "444c408a-133f-421b-8fed-1be3094f48c7"
      },
      "execution_count": 32,
      "outputs": [
        {
          "output_type": "execute_result",
          "data": {
            "text/plain": [
              "[{'_id': 'Pepperoni', 'totalQuantity': 20},\n",
              " {'_id': 'Cheese', 'totalQuantity': 50},\n",
              " {'_id': 'Vegan', 'totalQuantity': 10}]"
            ]
          },
          "metadata": {},
          "execution_count": 32
        }
      ]
    },
    {
      "cell_type": "markdown",
      "source": [
        "The query above is similar in spirit to the SQL statement `Select name, sum(quantity) from orders where size='medium'`"
      ],
      "metadata": {
        "id": "0AwMCO6vA7iE"
      }
    },
    {
      "cell_type": "markdown",
      "source": [
        "The next example calculates the total pizza order value and average order quantity of Pepperoni pizzas and the total number of pizza orders."
      ],
      "metadata": {
        "id": "JROaLxXOBKAb"
      }
    },
    {
      "cell_type": "code",
      "source": [
        "result = orders.aggregate([\n",
        "    # Select all pepperoni pizzas\n",
        "    {\"$match\": {\"name\": \"Pepperoni\"}},\n",
        "\n",
        "    # Calculate total order and average order\n",
        "    {\"$group\": {\n",
        "                \"_id\": \"$name\", \n",
        "                \"totalQuantity\": {\"$sum\": \"$quantity\"}, \n",
        "                \"avgQuantity\": {\"$avg\": \"$quantity\"},\n",
        "                \"countRecords\": {\"$sum\": 1}}\n",
        "     }  \n",
        "])\n",
        "list(result)"
      ],
      "metadata": {
        "colab": {
          "base_uri": "https://localhost:8080/"
        },
        "id": "AntDBykSBXRX",
        "outputId": "6784ced2-c81b-496b-ee18-5dcdc2298783"
      },
      "execution_count": 33,
      "outputs": [
        {
          "output_type": "execute_result",
          "data": {
            "text/plain": [
              "[{'_id': 'Pepperoni',\n",
              "  'totalQuantity': 60,\n",
              "  'avgQuantity': 20.0,\n",
              "  'countRecords': 3}]"
            ]
          },
          "metadata": {},
          "execution_count": 33
        }
      ]
    },
    {
      "cell_type": "markdown",
      "source": [
        "In addition to summary statistics, you can also do advance data filter and retrieval using different aggregation operators. Consider if you wanted to find the per pizza price for all orders."
      ],
      "metadata": {
        "id": "HJDdvDR9CbKy"
      }
    },
    {
      "cell_type": "code",
      "source": [
        "result = orders.aggregate([\n",
        "    {\"$match\": {}}, # match is going to be empty because you want to match everything\n",
        "\n",
        "    {\"$project\": {\"quantity\": 1, \"price\": 1, \"per_pizza\": {\"$divide\": [\"$quantity\", \"$price\"]}}}   #per_pizza cost = quantity/price\n",
        "    \n",
        "])\n",
        "list(result)"
      ],
      "metadata": {
        "colab": {
          "base_uri": "https://localhost:8080/"
        },
        "id": "3ut4HdmUCs-n",
        "outputId": "8b113bfc-e50d-4da7-a00c-c4955e918c98"
      },
      "execution_count": 34,
      "outputs": [
        {
          "output_type": "execute_result",
          "data": {
            "text/plain": [
              "[{'_id': 0, 'price': 19, 'quantity': 10, 'per_pizza': 0.5263157894736842},\n",
              " {'_id': 1, 'price': 20, 'quantity': 20, 'per_pizza': 1.0},\n",
              " {'_id': 2, 'price': 21, 'quantity': 30, 'per_pizza': 1.4285714285714286},\n",
              " {'_id': 3, 'price': 12, 'quantity': 15, 'per_pizza': 1.25},\n",
              " {'_id': 4, 'price': 13, 'quantity': 50, 'per_pizza': 3.8461538461538463},\n",
              " {'_id': 5, 'price': 14, 'quantity': 10, 'per_pizza': 0.7142857142857143},\n",
              " {'_id': 6, 'price': 17, 'quantity': 10, 'per_pizza': 0.5882352941176471},\n",
              " {'_id': 7, 'price': 18, 'quantity': 10, 'per_pizza': 0.5555555555555556}]"
            ]
          },
          "metadata": {},
          "execution_count": 34
        }
      ]
    },
    {
      "cell_type": "markdown",
      "source": [
        "And if you wanted to find the minimum per pizza price."
      ],
      "metadata": {
        "id": "d1RqAv-5EXFk"
      }
    },
    {
      "cell_type": "code",
      "source": [
        "result = orders.aggregate([\n",
        "    {\"$project\": {\"quantity\": 1, \"price\": 1, \"per_pizza\": {\"$divide\": [\"$quantity\", \"$price\"]}}},   #per_pizza cost = quantity/price\n",
        "    {\"$group\": {\"_id\": 1, \"minPerPizza\": {\"$min\": \"$per_pizza\"}}} #_id 1 is akin to doing Select Min() ... FROM ...\n",
        "])\n",
        "list(result)"
      ],
      "metadata": {
        "colab": {
          "base_uri": "https://localhost:8080/"
        },
        "id": "ZAPvh5XYEqmL",
        "outputId": "1f73a8e9-6c76-4ba9-a976-583118bf0627"
      },
      "execution_count": 35,
      "outputs": [
        {
          "output_type": "execute_result",
          "data": {
            "text/plain": [
              "[{'_id': 1, 'minPerPizza': 0.5263157894736842}]"
            ]
          },
          "metadata": {},
          "execution_count": 35
        }
      ]
    },
    {
      "cell_type": "markdown",
      "source": [
        "You could actually obtain the minimum of the per pizza price by using sort and limits as well."
      ],
      "metadata": {
        "id": "1VhJ6vlGFYz9"
      }
    },
    {
      "cell_type": "code",
      "source": [
        "result = orders.aggregate([\n",
        "    {\"$project\": {\"quantity\": 1, \"price\": 1, \"name\":1, \"per_pizza\": {\"$divide\": [\"$quantity\", \"$price\"]}}},   #per_pizza cost = quantity/price\n",
        "    {\"$sort\": {\"per_pizza\": 1}},\n",
        "    {\"$limit\": 1}\n",
        "])\n",
        "list(result)"
      ],
      "metadata": {
        "colab": {
          "base_uri": "https://localhost:8080/"
        },
        "id": "moQaBdLtFf7P",
        "outputId": "245c70eb-4502-4c82-980c-4a51910316ab"
      },
      "execution_count": 36,
      "outputs": [
        {
          "output_type": "execute_result",
          "data": {
            "text/plain": [
              "[{'_id': 0,\n",
              "  'name': 'Pepperoni',\n",
              "  'price': 19,\n",
              "  'quantity': 10,\n",
              "  'per_pizza': 0.5263157894736842}]"
            ]
          },
          "metadata": {},
          "execution_count": 36
        }
      ]
    },
    {
      "cell_type": "markdown",
      "source": [
        "Lookups can be done on Mongo columns and these are very similar to joins in SQL. A basic example of lookups based on official Mongo example is provided as follows:"
      ],
      "metadata": {
        "id": "m-A2eMOTLYbk"
      }
    },
    {
      "cell_type": "code",
      "source": [
        "db.nuts.insert_many( [\n",
        "   { \"_id\" : 1, \"item\" : \"almonds\", \"price\" : 12, \"quantity\" : 2 },\n",
        "   { \"_id\" : 2, \"item\" : \"pecans\", \"price\" : 20, \"quantity\" : 1 },\n",
        "   { \"_id\" : 3  }\n",
        "] )\n",
        "db.inventory.insert_many( [\n",
        "   { \"_id\" : 1, \"sku\" : \"almonds\", \"description\": \"product 1\", \"instock\" : 120 },\n",
        "   { \"_id\" : 2, \"sku\" : \"bread\", \"description\": \"product 2\", \"instock\" : 80 },\n",
        "   { \"_id\" : 3, \"sku\" : \"cashews\", \"description\": \"product 3\", \"instock\" : 60 },\n",
        "   { \"_id\" : 4, \"sku\" : \"pecans\", \"description\": \"product 4\", \"instock\" : 70 },\n",
        "   { \"_id\" : 5, \"sku\": None, \"description\": \"Incomplete\" },\n",
        "   { \"_id\" : 6 }\n",
        "] )"
      ],
      "metadata": {
        "colab": {
          "base_uri": "https://localhost:8080/"
        },
        "id": "SrGSEACyLfCI",
        "outputId": "e74c0e57-cee4-4347-f6e3-257de5ec04c9"
      },
      "execution_count": 37,
      "outputs": [
        {
          "output_type": "execute_result",
          "data": {
            "text/plain": [
              "<pymongo.results.InsertManyResult at 0x7f44cc970640>"
            ]
          },
          "metadata": {},
          "execution_count": 37
        }
      ]
    },
    {
      "cell_type": "code",
      "source": [
        "results = db.nuts.aggregate( [\n",
        "   {\n",
        "     \"$lookup\":\n",
        "       {\n",
        "         \"from\": \"inventory\",\n",
        "         \"localField\": \"item\",\n",
        "         \"foreignField\": \"sku\",\n",
        "         \"as\": \"inventory_docs\"\n",
        "       }\n",
        "  }\n",
        "])\n",
        "list(results)"
      ],
      "metadata": {
        "colab": {
          "base_uri": "https://localhost:8080/"
        },
        "id": "wBRjHaNqLwe3",
        "outputId": "a9c760ad-c53f-4f65-966b-48871caa4d2e"
      },
      "execution_count": 38,
      "outputs": [
        {
          "output_type": "execute_result",
          "data": {
            "text/plain": [
              "[{'_id': 1,\n",
              "  'item': 'almonds',\n",
              "  'price': 12,\n",
              "  'quantity': 2,\n",
              "  'inventory_docs': [{'_id': 1,\n",
              "    'sku': 'almonds',\n",
              "    'description': 'product 1',\n",
              "    'instock': 120}]},\n",
              " {'_id': 2,\n",
              "  'item': 'pecans',\n",
              "  'price': 20,\n",
              "  'quantity': 1,\n",
              "  'inventory_docs': [{'_id': 4,\n",
              "    'sku': 'pecans',\n",
              "    'description': 'product 4',\n",
              "    'instock': 70}]},\n",
              " {'_id': 3,\n",
              "  'inventory_docs': [{'_id': 5, 'sku': None, 'description': 'Incomplete'},\n",
              "   {'_id': 6}]}]"
            ]
          },
          "metadata": {},
          "execution_count": 38
        }
      ]
    },
    {
      "cell_type": "markdown",
      "source": [
        "As you can see, lookup will embed the other document giving you a join like structure. You can use the projection operator to extract relevant fields as follows."
      ],
      "metadata": {
        "id": "ueooJX-ZMCPu"
      }
    },
    {
      "cell_type": "code",
      "source": [
        "results = db.nuts.aggregate( [\n",
        "   {\n",
        "     \"$lookup\":\n",
        "       {\n",
        "         \"from\": \"inventory\",\n",
        "         \"localField\": \"item\",\n",
        "         \"foreignField\": \"sku\",\n",
        "         \"as\": \"inventory_docs\"\n",
        "       },\n",
        "  },\n",
        "  {\"$project\": {\"_id\":1, \"item\": 1, \"description\": {\"$arrayElemAt\": [\"$inventory_docs.description\", 0]}}}\n",
        "\n",
        "])\n",
        "list(results)"
      ],
      "metadata": {
        "colab": {
          "base_uri": "https://localhost:8080/"
        },
        "id": "0Fv0PCWVM8gC",
        "outputId": "3b778266-6ee7-43e9-b14f-a48435d6de31"
      },
      "execution_count": 39,
      "outputs": [
        {
          "output_type": "execute_result",
          "data": {
            "text/plain": [
              "[{'_id': 1, 'item': 'almonds', 'description': 'product 1'},\n",
              " {'_id': 2, 'item': 'pecans', 'description': 'product 4'},\n",
              " {'_id': 3, 'description': 'Incomplete'}]"
            ]
          },
          "metadata": {},
          "execution_count": 39
        }
      ]
    },
    {
      "cell_type": "markdown",
      "source": [
        "This concludes a basic tutorial on the MongoDB. The best resource that you can possibly have to dig deeper is unquestionably the official MongoDB [Manual](https://www.mongodb.com/docs/manual/). Have fun!"
      ],
      "metadata": {
        "id": "yHXwnLvpFgCf"
      }
    }
  ]
}