{
 "cells": [
  {
   "cell_type": "code",
   "execution_count": 1,
   "id": "12ca79c1-e170-44b2-9a09-1542085e0213",
   "metadata": {},
   "outputs": [],
   "source": [
    "import pandas as pd\n",
    "import pymongo\n",
    "import os\n",
    "import json\n",
    "import datetime as dt"
   ]
  },
  {
   "cell_type": "markdown",
   "id": "1d236f5b-5ba3-4c6d-afd9-cbb0d0f3bfc9",
   "metadata": {},
   "source": [
    "# 1. Connect to Mongo"
   ]
  },
  {
   "cell_type": "code",
   "execution_count": 2,
   "id": "85dd5b09-09af-4704-bcf0-3902f2388a12",
   "metadata": {},
   "outputs": [],
   "source": [
    "def read_mongo_config(config_path):\n",
    "    with open(config_path) as file:\n",
    "        temp = json.load(file)\n",
    "    return temp\n",
    "    \n",
    "\n",
    "def get_mongo_connection(mongo_config):\n",
    "    \"\"\"\n",
    "    Path to mongo credentials must be set in src/config.py. Returns the Mongo client.\n",
    "    :return: pymongo.Client\n",
    "    \"\"\"\n",
    "    mongo_url = \"mongodb://{}:{}@{}:{}/?authSource={}\".format(mongo_config[\"user\"],\n",
    "                                                              mongo_config[\"password\"],\n",
    "                                                              mongo_config[\"host\"],\n",
    "                                                              mongo_config[\"port\"],\n",
    "                                                              mongo_config[\"authenticationDatabase\"])\n",
    "\n",
    "    client = pymongo.MongoClient(mongo_url)\n",
    "    return client"
   ]
  },
  {
   "cell_type": "code",
   "execution_count": 3,
   "id": "52895a2e-3c08-49d0-9bf9-d0ac4e301e2a",
   "metadata": {},
   "outputs": [
    {
     "data": {
      "text/plain": [
       "{'host': 'localhost',\n",
       " 'port': '27017',\n",
       " 'user': 'username',\n",
       " 'password': 'password',\n",
       " 'authenticationDatabase': 'auth-database'}"
      ]
     },
     "execution_count": 3,
     "metadata": {},
     "output_type": "execute_result"
    }
   ],
   "source": [
    "config_path = os.path.join(os.getcwd(), \"mongo_config.json\")\n",
    "mongo_config = read_mongo_config(config_path)\n",
    "mongo_config"
   ]
  },
  {
   "cell_type": "code",
   "execution_count": 4,
   "id": "e34222ab-18fe-48df-84f2-ca3a7707c3a3",
   "metadata": {},
   "outputs": [],
   "source": [
    "def get_mongo_connection_no_auth(host=\"localhost\", port=27017):\n",
    "    mongo_url = f\"mongodb://{host}:{port}/\"\n",
    "    client = pymongo.MongoClient(mongo_url)\n",
    "    return client\n",
    "\n",
    "client = get_mongo_connection_no_auth()"
   ]
  },
  {
   "cell_type": "markdown",
   "id": "e1115b23-8c66-44e5-9ec6-ceadc015a093",
   "metadata": {},
   "source": [
    "# 2. Write data Data to Mongo\n",
    "\n",
    "First load data from `clients.json` and `requests.json`"
   ]
  },
  {
   "cell_type": "code",
   "execution_count": 5,
   "id": "1cfa88c5-6066-48e6-a6a4-1424a9af61eb",
   "metadata": {},
   "outputs": [
    {
     "data": {
      "text/plain": [
       "{'home_address': '1234 Example Street Chattanooga, TN 37408',\n",
       " 'first_name': 'First',\n",
       " 'last_name': 'Last',\n",
       " 'home_lat': 1,\n",
       " 'home_lon': -1,\n",
       " 'wc_type': 1,\n",
       " 'client_id': 4622,\n",
       " 'phone': 1231231234,\n",
       " 'email': 'example@gmail.com'}"
      ]
     },
     "execution_count": 5,
     "metadata": {},
     "output_type": "execute_result"
    }
   ],
   "source": [
    "file_path = os.path.join(os.getcwd(), \"clients.json\")\n",
    "with open(file_path) as file:\n",
    "    data = json.load(file)\n",
    "    df = pd.DataFrame(data)\n",
    "    df = df.drop(columns=['_id'])\n",
    "    clients_docs = df.to_dict('records')\n",
    "clients_docs[0]"
   ]
  },
  {
   "cell_type": "code",
   "execution_count": 6,
   "id": "529f67d2-13cf-4c06-a619-8c7dd406c4f1",
   "metadata": {},
   "outputs": [
    {
     "data": {
      "text/plain": [
       "{'pickup_address': 'TestPU',\n",
       " 'dropoff_address': 'TestDO',\n",
       " 'pickup_lat': 35.045644,\n",
       " 'pickup_lon': -85.319982,\n",
       " 'dropoff_lat': 35.022033,\n",
       " 'dropoff_lon': -85.241765,\n",
       " 'am': 0,\n",
       " 'wc': 1,\n",
       " 'wc_type': 1,\n",
       " 'requested_pickup_dt': Timestamp('2021-01-01 09:15:00'),\n",
       " 'client_id': 4622,\n",
       " 'booking_id': 1014492,\n",
       " 'ada': False,\n",
       " 'pickup_loc': [-85.319982, 35.045644],\n",
       " 'dropoff_loc': [-85.241765, 35.022033]}"
      ]
     },
     "execution_count": 6,
     "metadata": {},
     "output_type": "execute_result"
    }
   ],
   "source": [
    "file_path = os.path.join(os.getcwd(), \"requests.json\")\n",
    "with open(file_path) as file:\n",
    "    data = json.load(file)\n",
    "    df = pd.DataFrame(data)\n",
    "    df = df.drop(columns=['_id'])\n",
    "    df['requested_pickup_dt'] = df['requested_pickup_dt'].apply(lambda x: dt.datetime.fromisoformat(x['$date'][0:-1]))\n",
    "    df['pickup_loc'] = df.apply(lambda row: [row['pickup_lon'], row['pickup_lat']], axis=1)\n",
    "    df['dropoff_loc'] = df.apply(lambda row: [row['dropoff_lon'], row['dropoff_lat']], axis=1)\n",
    "    requests_docs = df.to_dict('records')\n",
    "requests_docs[0]"
   ]
  },
  {
   "cell_type": "markdown",
   "id": "d0d5676b-bc6f-41b6-a8c1-cc330c84f7df",
   "metadata": {},
   "source": [
    "Write data in `clients.json` to the `demo_db` database, `clients` collection"
   ]
  },
  {
   "cell_type": "code",
   "execution_count": 7,
   "id": "02e1d903-108f-412e-9a59-29c2a1b44659",
   "metadata": {},
   "outputs": [
    {
     "data": {
      "text/plain": [
       "[ObjectId('6215417e398c70c9054d52e5'), ObjectId('6215417e398c70c9054d52e6')]"
      ]
     },
     "execution_count": 7,
     "metadata": {},
     "output_type": "execute_result"
    }
   ],
   "source": [
    "result = client['demo_db']['clients'].insert_many(clients_docs)\n",
    "result.inserted_ids[0:2]"
   ]
  },
  {
   "cell_type": "markdown",
   "id": "a4cae032-aa1f-4495-a31c-dc8ceb60e0ec",
   "metadata": {},
   "source": [
    "Write data in `requests.json` to the `demo_db` database, `requests` collection"
   ]
  },
  {
   "cell_type": "code",
   "execution_count": 8,
   "id": "07df020b-ddb9-48b9-a922-836666ee2ef0",
   "metadata": {},
   "outputs": [
    {
     "data": {
      "text/plain": [
       "[ObjectId('62154185398c70c9054d552c'), ObjectId('62154185398c70c9054d552d')]"
      ]
     },
     "execution_count": 8,
     "metadata": {},
     "output_type": "execute_result"
    }
   ],
   "source": [
    "result = client['demo_db']['requests'].insert_many(requests_docs)\n",
    "result.inserted_ids[0:2]"
   ]
  },
  {
   "cell_type": "markdown",
   "id": "1f3a7421-66fe-455f-86db-752b636ed986",
   "metadata": {},
   "source": [
    "# 3. Example Queries\n",
    "\n",
    "Get one random document from `clients`"
   ]
  },
  {
   "cell_type": "code",
   "execution_count": 9,
   "id": "c070c064-e338-47c4-a84d-de34415534af",
   "metadata": {},
   "outputs": [
    {
     "data": {
      "text/plain": [
       "{'_id': ObjectId('6215417e398c70c9054d52e5'),\n",
       " 'home_address': '1234 Example Street Chattanooga, TN 37408',\n",
       " 'first_name': 'First',\n",
       " 'last_name': 'Last',\n",
       " 'home_lat': 1,\n",
       " 'home_lon': -1,\n",
       " 'wc_type': 1,\n",
       " 'client_id': 4622,\n",
       " 'phone': 1231231234,\n",
       " 'email': 'example@gmail.com'}"
      ]
     },
     "execution_count": 9,
     "metadata": {},
     "output_type": "execute_result"
    }
   ],
   "source": [
    "doc = client['demo_db']['clients'].find_one()\n",
    "doc"
   ]
  },
  {
   "cell_type": "markdown",
   "id": "7d05e4a0-0c6a-42c1-9baa-59982aa993dc",
   "metadata": {},
   "source": [
    "Get all documents from `clients`"
   ]
  },
  {
   "cell_type": "code",
   "execution_count": 10,
   "id": "6da1641c-7023-4c2b-9903-d10aa4f7931f",
   "metadata": {},
   "outputs": [
    {
     "data": {
      "text/plain": [
       "[{'_id': ObjectId('6215417e398c70c9054d52e5'),\n",
       "  'home_address': '1234 Example Street Chattanooga, TN 37408',\n",
       "  'first_name': 'First',\n",
       "  'last_name': 'Last',\n",
       "  'home_lat': 1,\n",
       "  'home_lon': -1,\n",
       "  'wc_type': 1,\n",
       "  'client_id': 4622,\n",
       "  'phone': 1231231234,\n",
       "  'email': 'example@gmail.com'},\n",
       " {'_id': ObjectId('6215417e398c70c9054d52e6'),\n",
       "  'home_address': '928 James Avenue, Chattanooga, Tennessee 37421',\n",
       "  'first_name': 'Ahmed',\n",
       "  'last_name': 'Merrill',\n",
       "  'home_lat': 1,\n",
       "  'home_lon': -1,\n",
       "  'wc_type': 1,\n",
       "  'client_id': 3711,\n",
       "  'phone': '(262) 414-2190',\n",
       "  'email': 'Ahmed.Merrill@gmail.com'}]"
      ]
     },
     "execution_count": 10,
     "metadata": {},
     "output_type": "execute_result"
    }
   ],
   "source": [
    "docs = list(client['demo_db']['clients'].find())\n",
    "docs[0:2]"
   ]
  },
  {
   "cell_type": "markdown",
   "id": "a35b4e4c-473b-40d3-a699-b402e3a86334",
   "metadata": {},
   "source": [
    "Convert documents to a pandas dataframe"
   ]
  },
  {
   "cell_type": "code",
   "execution_count": 11,
   "id": "ba4680ba-b7e1-4ab3-b2d6-307b1750f337",
   "metadata": {},
   "outputs": [
    {
     "data": {
      "text/html": [
       "<div>\n",
       "<style scoped>\n",
       "    .dataframe tbody tr th:only-of-type {\n",
       "        vertical-align: middle;\n",
       "    }\n",
       "\n",
       "    .dataframe tbody tr th {\n",
       "        vertical-align: top;\n",
       "    }\n",
       "\n",
       "    .dataframe thead th {\n",
       "        text-align: right;\n",
       "    }\n",
       "</style>\n",
       "<table border=\"1\" class=\"dataframe\">\n",
       "  <thead>\n",
       "    <tr style=\"text-align: right;\">\n",
       "      <th></th>\n",
       "      <th>_id</th>\n",
       "      <th>home_address</th>\n",
       "      <th>first_name</th>\n",
       "      <th>last_name</th>\n",
       "      <th>home_lat</th>\n",
       "      <th>home_lon</th>\n",
       "      <th>wc_type</th>\n",
       "      <th>client_id</th>\n",
       "      <th>phone</th>\n",
       "      <th>email</th>\n",
       "    </tr>\n",
       "  </thead>\n",
       "  <tbody>\n",
       "    <tr>\n",
       "      <th>0</th>\n",
       "      <td>6215417e398c70c9054d52e5</td>\n",
       "      <td>1234 Example Street Chattanooga, TN 37408</td>\n",
       "      <td>First</td>\n",
       "      <td>Last</td>\n",
       "      <td>1</td>\n",
       "      <td>-1</td>\n",
       "      <td>1</td>\n",
       "      <td>4622</td>\n",
       "      <td>1231231234</td>\n",
       "      <td>example@gmail.com</td>\n",
       "    </tr>\n",
       "    <tr>\n",
       "      <th>1</th>\n",
       "      <td>6215417e398c70c9054d52e6</td>\n",
       "      <td>928 James Avenue, Chattanooga, Tennessee 37421</td>\n",
       "      <td>Ahmed</td>\n",
       "      <td>Merrill</td>\n",
       "      <td>1</td>\n",
       "      <td>-1</td>\n",
       "      <td>1</td>\n",
       "      <td>3711</td>\n",
       "      <td>(262) 414-2190</td>\n",
       "      <td>Ahmed.Merrill@gmail.com</td>\n",
       "    </tr>\n",
       "    <tr>\n",
       "      <th>2</th>\n",
       "      <td>6215417e398c70c9054d52e7</td>\n",
       "      <td>1234 Example Street Chattanooga, TN 37408</td>\n",
       "      <td>First</td>\n",
       "      <td>Last</td>\n",
       "      <td>1</td>\n",
       "      <td>-1</td>\n",
       "      <td>1</td>\n",
       "      <td>6287</td>\n",
       "      <td>1231231234</td>\n",
       "      <td>example@gmail.com</td>\n",
       "    </tr>\n",
       "    <tr>\n",
       "      <th>3</th>\n",
       "      <td>6215417e398c70c9054d52e8</td>\n",
       "      <td>1234 Example Street Chattanooga, TN 37408</td>\n",
       "      <td>First</td>\n",
       "      <td>Last</td>\n",
       "      <td>1</td>\n",
       "      <td>-1</td>\n",
       "      <td>1</td>\n",
       "      <td>4467</td>\n",
       "      <td>1231231234</td>\n",
       "      <td>example@gmail.com</td>\n",
       "    </tr>\n",
       "    <tr>\n",
       "      <th>4</th>\n",
       "      <td>6215417e398c70c9054d52e9</td>\n",
       "      <td>1234 Example Street Chattanooga, TN 37408</td>\n",
       "      <td>First</td>\n",
       "      <td>Last</td>\n",
       "      <td>1</td>\n",
       "      <td>-1</td>\n",
       "      <td>1</td>\n",
       "      <td>6341</td>\n",
       "      <td>1231231234</td>\n",
       "      <td>example@gmail.com</td>\n",
       "    </tr>\n",
       "  </tbody>\n",
       "</table>\n",
       "</div>"
      ],
      "text/plain": [
       "                        _id                                    home_address  \\\n",
       "0  6215417e398c70c9054d52e5       1234 Example Street Chattanooga, TN 37408   \n",
       "1  6215417e398c70c9054d52e6  928 James Avenue, Chattanooga, Tennessee 37421   \n",
       "2  6215417e398c70c9054d52e7       1234 Example Street Chattanooga, TN 37408   \n",
       "3  6215417e398c70c9054d52e8       1234 Example Street Chattanooga, TN 37408   \n",
       "4  6215417e398c70c9054d52e9       1234 Example Street Chattanooga, TN 37408   \n",
       "\n",
       "  first_name last_name  home_lat  home_lon  wc_type  client_id  \\\n",
       "0      First      Last         1        -1        1       4622   \n",
       "1      Ahmed   Merrill         1        -1        1       3711   \n",
       "2      First      Last         1        -1        1       6287   \n",
       "3      First      Last         1        -1        1       4467   \n",
       "4      First      Last         1        -1        1       6341   \n",
       "\n",
       "            phone                    email  \n",
       "0      1231231234        example@gmail.com  \n",
       "1  (262) 414-2190  Ahmed.Merrill@gmail.com  \n",
       "2      1231231234        example@gmail.com  \n",
       "3      1231231234        example@gmail.com  \n",
       "4      1231231234        example@gmail.com  "
      ]
     },
     "execution_count": 11,
     "metadata": {},
     "output_type": "execute_result"
    }
   ],
   "source": [
    "df = pd.DataFrame(docs)\n",
    "df.head()"
   ]
  },
  {
   "cell_type": "markdown",
   "id": "ef1fa9d2-e592-43bb-99e1-3bdc57af924d",
   "metadata": {},
   "source": [
    "Get all documents from `clients` where `client_id==4622`"
   ]
  },
  {
   "cell_type": "code",
   "execution_count": 12,
   "id": "b1462ca0-54ef-4ccf-8dbc-33573737a1e7",
   "metadata": {},
   "outputs": [
    {
     "data": {
      "text/plain": [
       "[{'_id': ObjectId('6215417e398c70c9054d52e5'),\n",
       "  'home_address': '1234 Example Street Chattanooga, TN 37408',\n",
       "  'first_name': 'First',\n",
       "  'last_name': 'Last',\n",
       "  'home_lat': 1,\n",
       "  'home_lon': -1,\n",
       "  'wc_type': 1,\n",
       "  'client_id': 4622,\n",
       "  'phone': 1231231234,\n",
       "  'email': 'example@gmail.com'}]"
      ]
     },
     "execution_count": 12,
     "metadata": {},
     "output_type": "execute_result"
    }
   ],
   "source": [
    "query = {\"client_id\": 4622}\n",
    "docs = list(client['demo_db']['clients'].find(query))\n",
    "docs"
   ]
  },
  {
   "cell_type": "markdown",
   "id": "f1baeac9-4643-46ba-9766-5b9cf8c9218b",
   "metadata": {},
   "source": [
    "Range Query - get all documents from `requests` between 1/1/2021 and 1/10/2021"
   ]
  },
  {
   "cell_type": "code",
   "execution_count": 13,
   "id": "24bc4255-77b6-4f15-9d63-f357c13c6d2f",
   "metadata": {},
   "outputs": [
    {
     "data": {
      "text/plain": [
       "(Timestamp('2021-01-01 09:15:00'), Timestamp('2021-01-09 23:30:00'))"
      ]
     },
     "execution_count": 13,
     "metadata": {},
     "output_type": "execute_result"
    }
   ],
   "source": [
    "query = {\"requested_pickup_dt\": \n",
    "         {\"$gte\": dt.datetime(2021, 1, 1), \"$lte\": dt.datetime(2021, 1, 10)}\n",
    "        }\n",
    "docs = pd.DataFrame(list(client['demo_db']['requests'].find(query)))\n",
    "docs['requested_pickup_dt'].min(), docs['requested_pickup_dt'].max()"
   ]
  },
  {
   "cell_type": "markdown",
   "id": "6f3de1c8-53b6-4d50-b709-f44bd5cbccf2",
   "metadata": {},
   "source": [
    "# 4. Geospatial Indexing"
   ]
  },
  {
   "cell_type": "code",
   "execution_count": 14,
   "id": "aacd19af-f595-424e-93a7-40bb63079073",
   "metadata": {},
   "outputs": [
    {
     "data": {
      "text/plain": [
       "'dropoff_loc_2d'"
      ]
     },
     "execution_count": 14,
     "metadata": {},
     "output_type": "execute_result"
    }
   ],
   "source": [
    "client['demo_db']['requests'].create_index([(\"dropoff_loc\", pymongo.GEO2D)])"
   ]
  }
 ],
 "metadata": {
  "kernelspec": {
   "display_name": "Python 3 (ipykernel)",
   "language": "python",
   "name": "python3"
  },
  "language_info": {
   "codemirror_mode": {
    "name": "ipython",
    "version": 3
   },
   "file_extension": ".py",
   "mimetype": "text/x-python",
   "name": "python",
   "nbconvert_exporter": "python",
   "pygments_lexer": "ipython3",
   "version": "3.8.5"
  }
 },
 "nbformat": 4,
 "nbformat_minor": 5
}
