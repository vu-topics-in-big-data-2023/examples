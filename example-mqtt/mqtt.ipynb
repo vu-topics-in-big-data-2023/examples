{
  "nbformat": 4,
  "nbformat_minor": 0,
  "metadata": {
    "colab": {
      "name": "mqtt.ipynb",
      "provenance": [],
      "collapsed_sections": []
    },
    "kernelspec": {
      "name": "python3",
      "display_name": "Python 3"
    },
    "language_info": {
      "name": "python"
    }
  },
  "cells": [
    {
      "cell_type": "markdown",
      "source": [
        "# Install MQTT\n",
        "\n",
        "\n",
        "MQTT is a lightweight publish/ subscribe messaging protocol. It can be used in IoT scenarios where the sensor data is communicated through a broker to a server which can be a database. In the previous ZMQ examples we have seen the actors communicating messages amongst themselves, there were no brokers involved. However, through the second assignment we have also created a broker between the two actors. The broker we had was very simple, it was acting as a pipeline to pass the messages. However in distributed applications, broker plays a very important role in scheduling messages, load balancing, etc. MQTT allows the luxury to have broker services online or on local host."
      ],
      "metadata": {
        "id": "2yFsjV0XgEgf"
      }
    },
    {
      "cell_type": "code",
      "execution_count": null,
      "metadata": {
        "id": "vltj67zwf91G"
      },
      "outputs": [],
      "source": [
        "!pip install paho-mqtt"
      ]
    },
    {
      "cell_type": "markdown",
      "source": [
        "#Broker\n",
        "\n",
        "A number of brokers are available online like \"test.mosquitto.org\", \"iot.eclipse.org\" which can be used. However, they may be offline sometimes and may not work. So, it is best to install a broker on the localhost using:"
      ],
      "metadata": {
        "id": "bWEO9-Idg4YD"
      }
    },
    {
      "cell_type": "code",
      "source": [
        "!apt-get install mosquitto"
      ],
      "metadata": {
        "id": "-8orbWEDgDJc"
      },
      "execution_count": null,
      "outputs": []
    },
    {
      "cell_type": "code",
      "source": [
        "!service mosquitto start"
      ],
      "metadata": {
        "colab": {
          "base_uri": "https://localhost:8080/"
        },
        "id": "k4ixYtU0jTvi",
        "outputId": "f378aa33-cfe7-4a93-c54e-d626901b5406"
      },
      "execution_count": 3,
      "outputs": [
        {
          "output_type": "stream",
          "name": "stdout",
          "text": [
            " * Starting network daemon: mosquitto\n",
            "   ...done.\n"
          ]
        }
      ]
    },
    {
      "cell_type": "markdown",
      "source": [
        "# Subscriber\n",
        "\n",
        "\n",
        "In this example the server subscribes to a specific topic and the message is received from the MQTT broker. The broker receives the message from the client and stores it, the data then can be subscribed by a single/ multiple servers.\n",
        "\n",
        "Broker is the MQTT broker service. This service can either be online/ on the local host. There is a list of online available brokers which can be used if you do not want to have a local machine to run the broker.\n",
        "\n",
        "Topic is message for which the server wants to listen for. The server can subscribe to a single/ multiple topics.\n",
        "\n",
        "Client = mqtt.Client(“Server”) creates a server instance of MQTT type.\n",
        "\n",
        "Client.on_message is used to call a function every time a message is received. In the above example, the message received will be printed on the terminal. This function can be anything.\n",
        "\n",
        "Client.connect(broker) connects to the broker.\n",
        "\n",
        "Client.subscribe(“Topic”) subscribes to the messages under the topic defined."
      ],
      "metadata": {
        "id": "VabLmJatgGui"
      }
    },
    {
      "cell_type": "code",
      "source": [
        "import random\n",
        "import time\n",
        "import os\n",
        "import paho.mqtt.client as mqtt\n",
        "broker = \"127.0.0.1\"\n",
        "port = 2000\n",
        "topic = \"RDS19\" #topic to be used for communication. You can change this as you wish\n",
        "\n",
        "# On receiving the message print it\n",
        "def on_message(client, userdata, message):\n",
        "    print(f\"Message received by subscriber on topic {topic}: {message.payload.decode('utf-8')}\")\n",
        "\n",
        "#On connecting to the broker subscribe to the topic\n",
        "def on_connect(client, userdata, flags, rc):\n",
        "    # print('Subscriber connected to the broker.')\n",
        "    client.subscribe(topic)\n",
        "\n",
        "def subscriber():\n",
        "    mqtt.Client.connected_flag=False#create flag in class\n",
        "    client = mqtt.Client(\"Server\")#create new instance\n",
        "    client.on_message= on_message#attach function to callback\n",
        "    client.on_connect = on_connect#attach a callback on connect\n",
        "   #bind call back function\n",
        "    client.loop_start()#start a loop\n",
        "    print(\"Connecting to broker \",broker)\n",
        "    client.connect(broker)#connect to broker\n",
        "\n",
        "# Sometimes it takes a while for the mosquitto server to start (especially \n",
        "# if you press the run all menu). So wait out a bit before trying to connect.\n",
        "sleep(5)\n",
        "\n",
        "subscriber()"
      ],
      "metadata": {
        "colab": {
          "base_uri": "https://localhost:8080/"
        },
        "id": "zMTZtw5zhLQL",
        "outputId": "f235bbb2-3c5e-41af-ef65-0f97f12e50aa"
      },
      "execution_count": 5,
      "outputs": [
        {
          "output_type": "stream",
          "name": "stdout",
          "text": [
            "Connecting to broker  127.0.0.1\n"
          ]
        }
      ]
    },
    {
      "cell_type": "markdown",
      "source": [
        "# Publisher\n",
        "\n",
        "The publisher connects to the MQTT broker and publishes data (on the same topic) which can then be subscribed at a later time by the server.\n",
        "\n"
      ],
      "metadata": {
        "id": "UfmmbBo0gDWy"
      }
    },
    {
      "cell_type": "code",
      "source": [
        "#on connect check if you are still conected to the broker\n",
        "def on_publisher_connect(client, userdata, flags, rc):\n",
        "    if rc==0:\n",
        "        client.connected_flag=True #set flag\n",
        "        print(\"Publisher connected OK\")\n",
        "    else:\n",
        "        print(\"Publisher Bad connection Returned code=\",rc)\n",
        "\n",
        "def publisher():\n",
        "    mqtt.Client.connected_flag=False#create flag in class\n",
        "    client = mqtt.Client(\"client1\")#create new instance\n",
        "    client.on_connect=on_publisher_connect  #bind call back function\n",
        "    client.loop_start()#start the loop\n",
        "    print(\"Publisher Connecting to broker \",broker)\n",
        "    client.connect(broker)#connect to the broker\n",
        "    while not client.connected_flag: #wait in loop\n",
        "        print(\"In wait loop\")\n",
        "        time.sleep(1)\n",
        "    print(\"Main Loop\")\n",
        "    while True:\n",
        "        publish_string = input(\"Enter string to publish (Enter quit to stop)\")\n",
        "        if publish_string.lower() == 'quit': break\n",
        "        client.publish(topic, publish_string)#keep publishing in the loop\n",
        "        print(\"Message published\")\n",
        "        time.sleep(2)\n",
        "    client.disconnect()#Disconnect when done\n",
        "\n",
        "publisher()"
      ],
      "metadata": {
        "colab": {
          "base_uri": "https://localhost:8080/"
        },
        "id": "Bbx6iJjlhsVQ",
        "outputId": "d67fef31-861f-4293-e0fb-e5535d1e06de"
      },
      "execution_count": 6,
      "outputs": [
        {
          "name": "stdout",
          "output_type": "stream",
          "text": [
            "Publisher Connecting to broker  127.0.0.1\n",
            "In wait loop\n",
            "In wait loopPublisher connected OK\n",
            "\n",
            "Main Loop\n",
            "Enter string to publish (Enter quit to stop)abcd\n",
            "Message published\n",
            "Message received by subscriber on topic RDS19: abcd\n",
            "Enter string to publish (Enter quit to stop)quit\n"
          ]
        }
      ]
    }
  ]
}