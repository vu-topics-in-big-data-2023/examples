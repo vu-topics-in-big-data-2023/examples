{
  "nbformat": 4,
  "nbformat_minor": 0,
  "metadata": {
    "colab": {
      "name": "zookeeper.ipynb",
      "provenance": [],
      "authorship_tag": "ABX9TyMOzmZLX9Y6jlrVSQVcvj9D",
      "include_colab_link": true
    },
    "kernelspec": {
      "name": "python3",
      "display_name": "Python 3"
    }
  },
  "cells": [
    {
      "cell_type": "markdown",
      "metadata": {
        "id": "view-in-github",
        "colab_type": "text"
      },
      "source": [
        "<a href=\"https://colab.research.google.com/github/vu-topics-in-big-data-2022/examples/blob/main/example-pulsar-zookeeper/zookeeper.ipynb\" target=\"_parent\"><img src=\"https://colab.research.google.com/assets/colab-badge.svg\" alt=\"Open In Colab\"/></a>"
      ]
    },
    {
      "cell_type": "code",
      "metadata": {
        "id": "VCNIAHPh8tjv"
      },
      "source": [
        "#zookeeper is packaged in a debian package that you can install\n",
        "#kazoo is the python library used to work with zookeeper\n",
		"apt-get update\n",
        "!apt-get install zookeeperd\n",
        "!pip install kazoo"
      ],
      "execution_count": null,
      "outputs": []
    },
    {
      "cell_type": "code",
      "metadata": {
        "id": "_poQ1F7_9T0z"
      },
      "source": [
        "#check where zookeeper was installed\n",
        "!ls -l  /usr/share/zookeeper/bin"
      ],
      "execution_count": null,
      "outputs": []
    },
    {
      "cell_type": "code",
      "metadata": {
        "id": "7XLZBhPq-mLa",
        "colab": {
          "base_uri": "https://localhost:8080/"
        },
        "outputId": "aedaf32d-f6e2-43d0-92fc-2cd9f29f367f"
      },
      "source": [
        "!/usr/share/zookeeper/bin/zkServer.sh start"
      ],
      "execution_count": 4,
      "outputs": [
        {
          "output_type": "stream",
          "text": [
            "ZooKeeper JMX enabled by default\n",
            "Using config: /etc/zookeeper/conf/zoo.cfg\n",
            "Starting zookeeper ... STARTED\n"
          ],
          "name": "stdout"
        }
      ]
    },
    {
      "cell_type": "code",
      "metadata": {
        "id": "LGfaVfel81Xf",
        "colab": {
          "base_uri": "https://localhost:8080/"
        },
        "outputId": "8371990a-f988-49ac-b1df-a1d1e1b83f77"
      },
      "source": [
        "from kazoo.client import KazooClient\n",
        "\n",
        "zk = KazooClient(hosts='127.0.0.1:2181')\n",
        "zk.start()\n",
        "# Ensure a path, create if necessary\n",
        "zk.ensure_path(\"/my/favorite\")\n",
        "# Create a node with data\n",
        "\n",
        "if zk.exists(\"/my/favorite\"):\n",
        "  data, stat = zk.get(\"/my/favorite\")\n",
        "  print(\"Version: %s, data: %s\" % (stat.version, data.decode(\"utf-8\")))\n",
        "  # List the children\n",
        "  children = zk.get_children(\"/my/favorite\")\n",
        "  print(\"There are %s children with names %s\" % (len(children), children))\n",
        "else:\n",
        "  zk.create(\"/my/favorite/node\", b\"a value\")\n",
        "  print(\"does not exist\")\n",
        "\n",
        "#update node data\n",
        "zk.set(\"/my/favorite\", b\"some data\")\n",
        "\n",
        "#check content again\n",
        "if zk.exists(\"/my/favorite\"):\n",
        "  data, stat = zk.get(\"/my/favorite\")\n",
        "  print(\"Version: %s, data: %s\" % (stat.version, data.decode(\"utf-8\")))\n",
        "  # List the children\n",
        "  children = zk.get_children(\"/my/favorite\")\n",
        "  print(\"There are %s children with names %s\" % (len(children), children))\n",
        "else:\n",
        "  print(\"does not exist\")\n",
        "\n",
        "#we can delete a node\n",
        "zk.delete(\"/my/favorite\", recursive=True)\n",
        "\n",
        "zk.stop()"
      ],
      "execution_count": 5,
      "outputs": [
        {
          "output_type": "stream",
          "text": [
            "Version: 0, data: \n",
            "There are 0 children with names []\n",
            "Version: 1, data: some data\n",
            "There are 0 children with names []\n"
          ],
          "name": "stdout"
        }
      ]
    }
  ]
}