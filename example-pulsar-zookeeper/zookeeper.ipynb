{
  "nbformat": 4,
  "nbformat_minor": 0,
  "metadata": {
    "colab": {
      "name": "zookeeper.ipynb",
      "provenance": [],
      "include_colab_link": true
    },
    "kernelspec": {
      "name": "python3",
      "display_name": "Python 3"
    }
  },
  "cells": [
    {
      "cell_type": "markdown",
      "metadata": {
        "id": "view-in-github",
        "colab_type": "text"
      },
      "source": [
        "<a href=\"https://colab.research.google.com/github/vu-topics-in-big-data-2023/examples/blob/main/example-pulsar-zookeeper/zookeeper.ipynb\" target=\"_parent\"><img src=\"https://colab.research.google.com/assets/colab-badge.svg\" alt=\"Open In Colab\"/></a>"
      ]
    },
    {
      "cell_type": "code",
      "metadata": {
        "id": "VCNIAHPh8tjv"
      },
      "source": [
        "#zookeeper is packaged in a debian package that you can install\n",
        "#kazoo is the python library used to work with zookeeper\n",
        "!apt-get update\n",
        "!apt-get install zookeeperd\n",
        "!pip install kazoo"
      ],
      "execution_count": null,
      "outputs": []
    },
    {
      "cell_type": "code",
      "metadata": {
        "id": "_poQ1F7_9T0z",
        "outputId": "77cf2f47-4d13-4471-ce9c-e98a50d6d451",
        "colab": {
          "base_uri": "https://localhost:8080/"
        }
      },
      "source": [
        "#check where zookeeper was installed\n",
        "!ls -l  /usr/share/zookeeper/bin"
      ],
      "execution_count": 3,
      "outputs": [
        {
          "output_type": "stream",
          "name": "stdout",
          "text": [
            "total 16\n",
            "-rwxr-xr-x 1 root root 1937 Mar 23  2017 zkCleanup.sh\n",
            "-rwxr-xr-x 1 root root 1534 Mar 23  2017 zkCli.sh\n",
            "lrwxrwxrwx 1 root root   31 Feb  3  2018 zkEnv.sh -> /etc/zookeeper/conf/environment\n",
            "-rwxr-xr-x 1 root root 6618 Feb  3  2018 zkServer.sh\n"
          ]
        }
      ]
    },
    {
      "cell_type": "code",
      "metadata": {
        "id": "7XLZBhPq-mLa",
        "colab": {
          "base_uri": "https://localhost:8080/"
        },
        "outputId": "f0a4f85f-1e85-47e9-b166-15a971a8b26b"
      },
      "source": [
        "!/usr/share/zookeeper/bin/zkServer.sh start"
      ],
      "execution_count": 4,
      "outputs": [
        {
          "output_type": "stream",
          "name": "stdout",
          "text": [
            "ZooKeeper JMX enabled by default\n",
            "Using config: /etc/zookeeper/conf/zoo.cfg\n",
            "Starting zookeeper ... STARTED\n"
          ]
        }
      ]
    },
    {
      "cell_type": "code",
      "metadata": {
        "id": "LGfaVfel81Xf",
        "colab": {
          "base_uri": "https://localhost:8080/"
        },
        "outputId": "cfd1836c-350a-40a4-e5f4-db3b380181c5"
      },
      "source": [
        "from kazoo.client import KazooClient\n",
        "\n",
        "zk = KazooClient(hosts='127.0.0.1:2181')\n",
        "zk.start()\n",
        "# Ensure a path, create if necessary\n",
        "zk.ensure_path(\"/my/favorite\")\n",
        "# Create a node with data\n",
        "\n",
        "if zk.exists(\"/my/favorite\"):\n",
        "  data, stat = zk.get(\"/my/favorite\")\n",
        "  print(\"Version: %s, data: %s\" % (stat.version, data.decode(\"utf-8\")))\n",
        "  # List the children\n",
        "  children = zk.get_children(\"/my/favorite\")\n",
        "  print(\"There are %s children with names %s\" % (len(children), children))\n",
        "else:\n",
        "  zk.create(\"/my/favorite/node\", b\"a value\")\n",
        "  print(\"does not exist\")\n",
        "\n",
        "#update node data\n",
        "zk.set(\"/my/favorite\", b\"today's menu\")\n",
        "\n",
        "#check content again\n",
        "if zk.exists(\"/my/favorite\"):\n",
        "  data, stat = zk.get(\"/my/favorite\")\n",
        "  print(\"Version: %s, data: %s\" % (stat.version, data.decode(\"utf-8\")))\n",
        "  # List the children\n",
        "  children = zk.get_children(\"/my/favorite\")\n",
        "  print(\"There are %s children with names %s\" % (len(children), children))\n",
        "else:\n",
        "  print(\"does not exist\")\n",
        "\n",
        "#we can delete a node\n",
        "zk.delete(\"/my/favorite\", recursive=True)\n",
        "\n",
        "zk.stop()"
      ],
      "execution_count": 6,
      "outputs": [
        {
          "output_type": "stream",
          "name": "stdout",
          "text": [
            "Version: 0, data: \n",
            "There are 0 children with names []\n",
            "Version: 1, data: today's menu\n",
            "There are 0 children with names []\n"
          ]
        }
      ]
    }
  ]
}