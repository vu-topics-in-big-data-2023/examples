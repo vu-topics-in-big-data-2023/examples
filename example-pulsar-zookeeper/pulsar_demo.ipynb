{
  "nbformat": 4,
  "nbformat_minor": 0,
  "metadata": {
    "kernelspec": {
      "display_name": "Python 3",
      "language": "python",
      "name": "python3"
    },
    "language_info": {
      "codemirror_mode": {
        "name": "ipython",
        "version": 3
      },
      "file_extension": ".py",
      "mimetype": "text/x-python",
      "name": "python",
      "nbconvert_exporter": "python",
      "pygments_lexer": "ipython3",
      "version": "3.7.6"
    },
    "colab": {
      "name": "pulsar_demo.ipynb",
      "provenance": [],
      "include_colab_link": true
    }
  },
  "cells": [
    {
      "cell_type": "markdown",
      "metadata": {
        "id": "view-in-github",
        "colab_type": "text"
      },
      "source": [
        "<a href=\"https://colab.research.google.com/github/vu-topics-in-big-data-2023/examples/blob/main/example-pulsar-zookeeper/pulsar_demo.ipynb\" target=\"_parent\"><img src=\"https://colab.research.google.com/assets/colab-badge.svg\" alt=\"Open In Colab\"/></a>"
      ]
    },
    {
      "cell_type": "markdown",
      "metadata": {
        "id": "D4vCjEpKBirV"
      },
      "source": [
        "# Pulsar Demo\n",
        "\n",
        "In this notebook we will demonstrate how to work with Apache Pulsar.\n",
        "\n",
        "Apache Pulsar documentation: http://pulsar.apache.org/docs/en/pulsar-2.0/"
      ]
    },
    {
      "cell_type": "markdown",
      "metadata": {
        "id": "9qepcH4srhdR"
      },
      "source": [
        "# 1. Pulsar Setup\n",
        "\n",
        "Setup your own  standalone Pulsar instance using the docker instructions at http://pulsar.apache.org/docs/en/standalone-docker/\n",
        "\n"
      ]
    },
    {
      "cell_type": "markdown",
      "metadata": {
        "id": "imdOz4WVrf79"
      },
      "source": [
        "# 2. Install Python pulsar-client\n",
        "\n",
        "The Python pulsar-client is used to connect with a running pulsar instance. \n",
        "\n",
        "Documentation links for additional detail:\n",
        "http://pulsar.apache.org/docs/en/client-libraries-python/\n",
        "\n",
        "http://pulsar.apache.org/api/python/2.5.0-SNAPSHOT/\n",
        "\n"
      ]
    },
    {
      "cell_type": "code",
      "metadata": {
        "id": "qCXGQOqZElsL"
      },
      "source": [
        "!pip install pulsar-client==2.5.0"
      ],
      "execution_count": null,
      "outputs": []
    },
    {
      "cell_type": "markdown",
      "metadata": {
        "id": "XHSIJ_OFsJ9p"
      },
      "source": [
        "# 3. Pulsar Producer\n",
        "\n",
        "Pulsar producers are used to send publish messages to Pulsar. Here I create a python script that will run in the background and will send a message every 1 second to pulsar on a topic, which we are calling 'my-pulsar-topic'."
      ]
    },
    {
      "cell_type": "code",
      "metadata": {
        "id": "bfjbaxUYldPc",
        "colab": {
          "base_uri": "https://localhost:8080/",
          "height": 34
        },
        "outputId": "c0cea68b-0b13-4974-a0ae-04f6855d00d2"
      },
      "source": [
        "%%file producer.py\n",
        "#!/usr/bin/python3.6\n",
        "\n",
        "import pulsar\n",
        "import datetime\n",
        "import time\n",
        "import argparse\n",
        "\n",
        "def main_run():\n",
        "  # connect to client\n",
        "  # replace this with the connection to your client. \n",
        "  \n",
        "  client = pulsar.Client('pulsar://34.67.159.115:6650')\n",
        "\n",
        "  # set topic we will publish to\n",
        "  topic = 'my-pulsar-topic'\n",
        "\n",
        "  # create the producer\n",
        "  producer = client.create_producer(topic)\n",
        "\n",
        "  # send a message every second\n",
        "  message_num = 0\n",
        "  while True:\n",
        "    cur_time = datetime.datetime.now().strftime(\"%H:%M:%S\")\n",
        "    message = 'hello-pulsar, message number: {}, time: {}'.format(message_num, \n",
        "                                                                  cur_time)\n",
        "    producer.send(message.encode('utf-8'))\n",
        "    message_num += 1\n",
        "    time.sleep(1)\n",
        "\n",
        "if __name__ == \"__main__\": \n",
        "  main_run()"
      ],
      "execution_count": null,
      "outputs": [
        {
          "output_type": "stream",
          "text": [
            "Overwriting producer.py\n"
          ],
          "name": "stdout"
        }
      ]
    },
    {
      "cell_type": "code",
      "metadata": {
        "id": "mQfYDlBcoj21",
        "colab": {
          "base_uri": "https://localhost:8080/",
          "height": 34
        },
        "outputId": "037ee92c-67b0-4fec-bc27-d1856c500794"
      },
      "source": [
        "#note that nohup and & allow us to run program in background in detached mode.\n",
        "!nohup /usr/bin/python3 producer.py &"
      ],
      "execution_count": null,
      "outputs": [
        {
          "output_type": "stream",
          "text": [
            "nohup: appending output to 'nohup.out'\n"
          ],
          "name": "stdout"
        }
      ]
    },
    {
      "cell_type": "markdown",
      "metadata": {
        "id": "KW53pR2jtAiY"
      },
      "source": [
        "# 4. Read messages from Pulsar\n",
        "\n",
        "There are two interfaces for reading messages from Pulsar. The reader interface is the easiest, it follows the dumb broker/smart client model. In this model the client (ie the script below) tells Pulsar where it wants to start reading messages (I start at the earliest message using \"pulsar.MessageId.earliest\"). \n",
        "\n",
        "To learn more about reading data from Pulsar and the various APIs see documenation at: http://pulsar.apache.org/docs/en/concepts-clients/"
      ]
    },
    {
      "cell_type": "code",
      "metadata": {
        "id": "LqgxwvpsjHIs",
        "colab": {
          "base_uri": "https://localhost:8080/",
          "height": 187
        },
        "outputId": "c0abb685-6f5e-4a94-97f5-b972bc4eb56e"
      },
      "source": [
        "import pulsar\n",
        "\n",
        "client = pulsar.Client('pulsar://34.67.159.115:6650')\n",
        "topic = 'my-pulsar-topic'\n",
        "\n",
        "reader = client.create_reader(topic, pulsar.MessageId.earliest)\n",
        "\n",
        "numoftimestorun=10\n",
        "for i in range(numoftimestorun):\n",
        "    msg = reader.read_next()\n",
        "    print(\"Received message '{}' id='{}'\".format(msg.data(), msg.message_id()))\n",
        "    # No acknowledgment"
      ],
      "execution_count": null,
      "outputs": [
        {
          "output_type": "stream",
          "text": [
            "Received message 'b'hello-pulsar, message number: 0, time: 18:04:01'' id='(135,0,-1,-1)'\n",
            "Received message 'b'hello-pulsar, message number: 1, time: 18:04:02'' id='(135,1,-1,-1)'\n",
            "Received message 'b'hello-pulsar, message number: 2, time: 18:04:03'' id='(135,2,-1,-1)'\n",
            "Received message 'b'hello-pulsar, message number: 3, time: 18:04:04'' id='(135,3,-1,-1)'\n",
            "Received message 'b'hello-pulsar, message number: 4, time: 18:04:05'' id='(135,4,-1,-1)'\n",
            "Received message 'b'hello-pulsar, message number: 5, time: 18:04:07'' id='(135,5,-1,-1)'\n",
            "Received message 'b'hello-pulsar, message number: 6, time: 18:04:08'' id='(135,6,-1,-1)'\n",
            "Received message 'b'hello-pulsar, message number: 7, time: 18:04:09'' id='(135,7,-1,-1)'\n",
            "Received message 'b'hello-pulsar, message number: 8, time: 18:04:10'' id='(135,8,-1,-1)'\n",
            "Received message 'b'hello-pulsar, message number: 9, time: 18:04:11'' id='(135,9,-1,-1)'\n"
          ],
          "name": "stdout"
        }
      ]
    },
    {
      "cell_type": "code",
      "metadata": {
        "id": "VdBgrot72DU-",
        "colab": {
          "base_uri": "https://localhost:8080/",
          "height": 119
        },
        "outputId": "afd56122-a4e4-4b4f-c641-5c187873092a"
      },
      "source": [
        "!pkill producer.py\n",
        "!cat nohup.out"
      ],
      "execution_count": null,
      "outputs": [
        {
          "output_type": "stream",
          "text": [
            "2020-03-18 18:04:01.517 INFO  ConnectionPool:85 | Created connection for pulsar://34.67.159.115:6650\n",
            "2020-03-18 18:04:01.557 INFO  ClientConnection:330 | [172.28.0.2:55800 -> 34.67.159.115:6650] Connected to broker\n",
            "2020-03-18 18:04:01.641 INFO  HandlerBase:53 | [persistent://public/default/my-pulsar-topic, ] Getting connection from pool\n",
            "2020-03-18 18:04:01.680 INFO  ConnectionPool:85 | Created connection for pulsar://localhost:6650\n",
            "2020-03-18 18:04:01.720 INFO  ClientConnection:332 | [172.28.0.2:55804 -> 34.67.159.115:6650] Connected to broker through proxy. Logical broker: pulsar://localhost:6650\n",
            "2020-03-18 18:04:01.827 INFO  ProducerImpl:151 | [persistent://public/default/my-pulsar-topic, ] Created producer on broker [172.28.0.2:55804 -> 34.67.159.115:6650] \n"
          ],
          "name": "stdout"
        }
      ]
    }
  ]
}