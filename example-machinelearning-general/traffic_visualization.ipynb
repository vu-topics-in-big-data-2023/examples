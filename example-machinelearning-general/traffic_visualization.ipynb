{
  "nbformat": 4,
  "nbformat_minor": 0,
  "metadata": {
    "colab": {
      "name": "traffic_visualization.ipynb",
      "provenance": [],
      "collapsed_sections": [],
      "include_colab_link": true
    },
    "kernelspec": {
      "name": "python3",
      "display_name": "Python 3"
    }
  },
  "cells": [
    {
      "cell_type": "markdown",
      "metadata": {
        "id": "view-in-github",
        "colab_type": "text"
      },
      "source": [
        "<a href=\"https://colab.research.google.com/github/vu-bigdata-2020/example-notebooks/blob/master/analytics-examples/traffic_visualization.ipynb\" target=\"_parent\"><img src=\"https://colab.research.google.com/assets/colab-badge.svg\" alt=\"Open In Colab\"/></a>"
      ]
    },
    {
      "cell_type": "markdown",
      "metadata": {
        "id": "LvCa7G7LZJ2c",
        "colab_type": "text"
      },
      "source": [
        "## Traffic Visualization and Analysis"
      ]
    },
    {
      "cell_type": "markdown",
      "metadata": {
        "id": "45zDn3_wZatb",
        "colab_type": "text"
      },
      "source": [
        "##### In this notebook we will use traffic data from Nashville, TN and show how to visualize the data on map and do some basic analysis."
      ]
    },
    {
      "cell_type": "markdown",
      "metadata": {
        "id": "fpD8ah-HZ9MO",
        "colab_type": "text"
      },
      "source": [
        "##### At first we wil import some libraries necessary for this job."
      ]
    },
    {
      "cell_type": "code",
      "metadata": {
        "id": "XtlC4EfKZEAY",
        "colab_type": "code",
        "colab": {}
      },
      "source": [
        "import numpy as np\n",
        "import pandas as pd\n",
        "import matplotlib.pyplot as plt\n",
        "import json\n",
        "import math\n",
        "import json\n",
        "from copy import deepcopy\n",
        "from shapely.geometry import *\n",
        "from shapely.ops import cascaded_union\n",
        "import folium\n",
        "import random\n",
        "import matplotlib"
      ],
      "execution_count": 0,
      "outputs": []
    },
    {
      "cell_type": "markdown",
      "metadata": {
        "id": "BNPv8EPZaY5w",
        "colab_type": "text"
      },
      "source": [
        "We will use the data from HERE API where the road segments are represented in terms of Traffic Message Channels(TMC).\n",
        "\n",
        "\n",
        "TMC : An edge with traffic speed data associated with it.\n",
        "\n",
        "\n",
        "Now we will load a json file to load the TMC numbers and the associated longitudes and latitudes presented in form of linestrings."
      ]
    },
    {
      "cell_type": "code",
      "metadata": {
        "id": "cK99fhzM3sz8",
        "colab_type": "code",
        "colab": {}
      },
      "source": [
        "tmc_data_path = \"https://raw.githubusercontent.com/vu-bigdata-2020/example-notebooks/master/datasets/traffic_data/tmc.json\""
      ],
      "execution_count": 0,
      "outputs": []
    },
    {
      "cell_type": "code",
      "metadata": {
        "id": "yAPCuNQ24X9X",
        "colab_type": "code",
        "colab": {}
      },
      "source": [
        "import urllib\n",
        "\n",
        "url = tmc_data_path\n",
        "\n",
        "response = urllib.request.urlopen(url)\n",
        "tmc_json = json.loads(response.read())\n",
        "# print (tmc_json.keys())\n"
      ],
      "execution_count": 0,
      "outputs": []
    },
    {
      "cell_type": "markdown",
      "metadata": {
        "id": "R98TqDnrbWzu",
        "colab_type": "text"
      },
      "source": [
        "Once the data is loaded, we will plot the data on the map.\n",
        "\n",
        "We define a function for that as described below."
      ]
    },
    {
      "cell_type": "code",
      "metadata": {
        "id": "JFJ2sAnU_ZmI",
        "colab_type": "code",
        "colab": {}
      },
      "source": [
        "def plot_tmc_ids(tmc_id_list, color=\"blue\"):\n",
        "    \"\"\"\n",
        "    tmc_id_list: (type-list) list of tmc IDs\n",
        "    \"\"\"\n",
        "    shp_list = [asShape(tmc_json[tmc_id][\"tmc_shp\"]) for tmc_id in tmc_id_list]\n",
        "    shp = cascaded_union(shp_list)\n",
        "    center = shp.centroid\n",
        "    m = folium.Map(location=[center.y, center.x], zoom_start=13)\n",
        "    bounds = shp.bounds\n",
        "    m.fit_bounds([[bounds[1], bounds[0]], [bounds[3], bounds[2]]])\n",
        "    style =lambda x: {'color' :color}\n",
        "    folium.GeoJson(mapping(shp), style_function=style).add_to(m)\n",
        "    folium.LayerControl().add_to(m)\n",
        "    return m"
      ],
      "execution_count": 0,
      "outputs": []
    },
    {
      "cell_type": "markdown",
      "metadata": {
        "id": "UbPBGqZFiLvM",
        "colab_type": "text"
      },
      "source": [
        "This notebook uses the preprocessed data in terms of .npy files.\n",
        "\n",
        "The original data containing the information about traffic speed, jam factor, free flow speed etc. is in parquet format and is of size 28 GB. \n",
        "\n",
        "We preprocessed the data and extracted the total list of TMC IDs (stored in 'fti.npy'), the average maximum speed per TMC (stored in 'fulldatamaxspeed.npy'), the matrix containing average traffic speed at an interval of 10 minutes for all the TMCs for just five days (starting from January 1,2018 to January 5, 2018, stored in 'fivedaysdata.npy').\n",
        "\n",
        "These preprocessed files will be used for further analysis."
      ]
    },
    {
      "cell_type": "markdown",
      "metadata": {
        "id": "Dei_sxWOctzq",
        "colab_type": "text"
      },
      "source": [
        "Next we load the full list of TMC IDs stored in a .npy file."
      ]
    },
    {
      "cell_type": "code",
      "metadata": {
        "id": "aPqY4Os5CC9W",
        "colab_type": "code",
        "colab": {}
      },
      "source": [
        "import requests"
      ],
      "execution_count": 0,
      "outputs": []
    },
    {
      "cell_type": "code",
      "metadata": {
        "id": "inO-TXNTCOhV",
        "colab_type": "code",
        "colab": {}
      },
      "source": [
        "r2 = requests.get('https://raw.githubusercontent.com/vu-bigdata-2020/example-notebooks/master/datasets/traffic_data/fti.npy')"
      ],
      "execution_count": 0,
      "outputs": []
    },
    {
      "cell_type": "code",
      "metadata": {
        "id": "CNq46kqjCWjs",
        "colab_type": "code",
        "colab": {
          "base_uri": "https://localhost:8080/",
          "height": 34
        },
        "outputId": "aa4dd68b-b612-4f50-c937-4e6ade6ab3b2"
      },
      "source": [
        "r2"
      ],
      "execution_count": 44,
      "outputs": [
        {
          "output_type": "execute_result",
          "data": {
            "text/plain": [
              "<Response [200]>"
            ]
          },
          "metadata": {
            "tags": []
          },
          "execution_count": 44
        }
      ]
    },
    {
      "cell_type": "code",
      "metadata": {
        "id": "cbWh-p1EDXLA",
        "colab_type": "code",
        "colab": {}
      },
      "source": [
        "f = open('fti.npy', 'wb')\n",
        "f.write(r2.content)\n",
        "f.close()"
      ],
      "execution_count": 0,
      "outputs": []
    },
    {
      "cell_type": "code",
      "metadata": {
        "id": "ZxNxdvHeDd0O",
        "colab_type": "code",
        "colab": {}
      },
      "source": [
        "fti = np.load('fti.npy',allow_pickle=True)"
      ],
      "execution_count": 0,
      "outputs": []
    },
    {
      "cell_type": "markdown",
      "metadata": {
        "id": "xBzGzqCbdPP_",
        "colab_type": "text"
      },
      "source": [
        "Let's see how many TMC IDs are there in Nashville."
      ]
    },
    {
      "cell_type": "code",
      "metadata": {
        "id": "woMtfhUHDm2Q",
        "colab_type": "code",
        "colab": {
          "base_uri": "https://localhost:8080/",
          "height": 34
        },
        "outputId": "757fc8d1-da6e-456f-cd22-59960425cc31"
      },
      "source": [
        "np.shape(fti)"
      ],
      "execution_count": 47,
      "outputs": [
        {
          "output_type": "execute_result",
          "data": {
            "text/plain": [
              "(3724,)"
            ]
          },
          "metadata": {
            "tags": []
          },
          "execution_count": 47
        }
      ]
    },
    {
      "cell_type": "markdown",
      "metadata": {
        "id": "xj_iA-FOdWwc",
        "colab_type": "text"
      },
      "source": [
        "We have a total of 3724 TMC IDs. Let' print some of them."
      ]
    },
    {
      "cell_type": "code",
      "metadata": {
        "id": "99V7DZz5RJB_",
        "colab_type": "code",
        "colab": {
          "base_uri": "https://localhost:8080/",
          "height": 68
        },
        "outputId": "b9234775-9ea9-4f2d-a219-005d1b1dc319"
      },
      "source": [
        "fti[0:10]"
      ],
      "execution_count": 74,
      "outputs": [
        {
          "output_type": "execute_result",
          "data": {
            "text/plain": [
              "array(['10727+0.88218', '10727-1.4957', '10729-0.05757', '10731-0.07415',\n",
              "       '10733-0.78909', '10735-0.56537', '10737-0.40404', '10739-0.18857',\n",
              "       '10741-0.26559', '10741-0.2656'], dtype=object)"
            ]
          },
          "metadata": {
            "tags": []
          },
          "execution_count": 74
        }
      ]
    },
    {
      "cell_type": "markdown",
      "metadata": {
        "id": "NAhPLON0dnbY",
        "colab_type": "text"
      },
      "source": [
        "Let's plot some TMC IDs"
      ]
    },
    {
      "cell_type": "code",
      "metadata": {
        "id": "drLvySa7dsvX",
        "colab_type": "code",
        "colab": {
          "base_uri": "https://localhost:8080/",
          "height": 889
        },
        "outputId": "facce899-7fce-4ded-83f8-869eaa8452f6"
      },
      "source": [
        "plot_tmc_ids(['12331-0.25626','12333-0.41623','12426+0.48088'])"
      ],
      "execution_count": 77,
      "outputs": [
        {
          "output_type": "execute_result",
          "data": {
            "text/html": [
              "<div style=\"width:100%;\"><div style=\"position:relative;width:100%;height:0;padding-bottom:60%;\"><iframe src=\"data:text/html;charset=utf-8;base64,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\" style=\"position:absolute;width:100%;height:100%;left:0;top:0;border:none !important;\" allowfullscreen webkitallowfullscreen mozallowfullscreen></iframe></div></div>"
            ],
            "text/plain": [
              "<folium.folium.Map at 0x7f32735ff2b0>"
            ]
          },
          "metadata": {
            "tags": []
          },
          "execution_count": 77
        }
      ]
    },
    {
      "cell_type": "markdown",
      "metadata": {
        "id": "1OySzAL4eLuQ",
        "colab_type": "text"
      },
      "source": [
        "The average maximum speed per TMC is stored in a numpy matrix 'fulldatamaxspeed.npy'. We load that next."
      ]
    },
    {
      "cell_type": "code",
      "metadata": {
        "id": "3KrsWEP-DJMX",
        "colab_type": "code",
        "colab": {}
      },
      "source": [
        "r3 = requests.get('https://raw.githubusercontent.com/vu-bigdata-2020/example-notebooks/master/datasets/traffic_data/fulldatamaxspeed.npy')"
      ],
      "execution_count": 0,
      "outputs": []
    },
    {
      "cell_type": "code",
      "metadata": {
        "id": "OQE2XgBQJO0H",
        "colab_type": "code",
        "colab": {
          "base_uri": "https://localhost:8080/",
          "height": 34
        },
        "outputId": "dcc2ae45-202f-44b1-d1c6-e6d69c707088"
      },
      "source": [
        "r3"
      ],
      "execution_count": 18,
      "outputs": [
        {
          "output_type": "execute_result",
          "data": {
            "text/plain": [
              "<Response [200]>"
            ]
          },
          "metadata": {
            "tags": []
          },
          "execution_count": 18
        }
      ]
    },
    {
      "cell_type": "code",
      "metadata": {
        "id": "S7RAIuB9Ji-W",
        "colab_type": "code",
        "colab": {}
      },
      "source": [
        "f2 = open('fulldatamaxspeed.npy', 'wb')\n",
        "f2.write(r3.content)\n",
        "f2.close()"
      ],
      "execution_count": 0,
      "outputs": []
    },
    {
      "cell_type": "code",
      "metadata": {
        "id": "jvp1CGVqJP_N",
        "colab_type": "code",
        "colab": {}
      },
      "source": [
        "maxspeed = np.load('fulldatamaxspeed.npy',allow_pickle=True)"
      ],
      "execution_count": 0,
      "outputs": []
    },
    {
      "cell_type": "code",
      "metadata": {
        "id": "lr9Xo24EJepx",
        "colab_type": "code",
        "colab": {
          "base_uri": "https://localhost:8080/",
          "height": 34
        },
        "outputId": "7575d268-cc9d-48d5-8e57-c6ad03b9f9a0"
      },
      "source": [
        "np.shape(maxspeed)"
      ],
      "execution_count": 22,
      "outputs": [
        {
          "output_type": "execute_result",
          "data": {
            "text/plain": [
              "(3724,)"
            ]
          },
          "metadata": {
            "tags": []
          },
          "execution_count": 22
        }
      ]
    },
    {
      "cell_type": "markdown",
      "metadata": {
        "id": "0XTBySAKef9S",
        "colab_type": "text"
      },
      "source": [
        "Starting from January 1st 2018, we load the data for first five days which has already been preprocessed and normalized and contains data an interval of 10 minutes for each TMC ID. \n",
        "\n",
        "So for each day we have 6*24=144 entries for each TMC ID. "
      ]
    },
    {
      "cell_type": "code",
      "metadata": {
        "id": "gnlURNXVJwUa",
        "colab_type": "code",
        "colab": {}
      },
      "source": [
        "r4 = requests.get('https://raw.githubusercontent.com/vu-bigdata-2020/example-notebooks/master/datasets/traffic_data/fivedaysdata.npy')"
      ],
      "execution_count": 0,
      "outputs": []
    },
    {
      "cell_type": "code",
      "metadata": {
        "id": "z8yNvOeGJ-Zd",
        "colab_type": "code",
        "colab": {
          "base_uri": "https://localhost:8080/",
          "height": 34
        },
        "outputId": "a96d7a85-aaa6-490d-c08a-2b4188909e9a"
      },
      "source": [
        "r4"
      ],
      "execution_count": 24,
      "outputs": [
        {
          "output_type": "execute_result",
          "data": {
            "text/plain": [
              "<Response [200]>"
            ]
          },
          "metadata": {
            "tags": []
          },
          "execution_count": 24
        }
      ]
    },
    {
      "cell_type": "code",
      "metadata": {
        "id": "bsE-sacqKADL",
        "colab_type": "code",
        "colab": {}
      },
      "source": [
        "f3 = open('fivedaysdata.npy', 'wb')\n",
        "f3.write(r4.content)\n",
        "f3.close()"
      ],
      "execution_count": 0,
      "outputs": []
    },
    {
      "cell_type": "code",
      "metadata": {
        "id": "UYXLBREkKL0p",
        "colab_type": "code",
        "colab": {}
      },
      "source": [
        "fivedays_data = np.load('fivedaysdata.npy', allow_pickle=True)"
      ],
      "execution_count": 0,
      "outputs": []
    },
    {
      "cell_type": "code",
      "metadata": {
        "id": "Z0X-su1hKWvq",
        "colab_type": "code",
        "colab": {
          "base_uri": "https://localhost:8080/",
          "height": 34
        },
        "outputId": "f237b020-766a-4455-9ad8-f99255692a96"
      },
      "source": [
        "np.shape(fivedays_data)"
      ],
      "execution_count": 27,
      "outputs": [
        {
          "output_type": "execute_result",
          "data": {
            "text/plain": [
              "(721, 3724)"
            ]
          },
          "metadata": {
            "tags": []
          },
          "execution_count": 27
        }
      ]
    },
    {
      "cell_type": "code",
      "metadata": {
        "id": "TCmVBuh_O9ON",
        "colab_type": "code",
        "colab": {}
      },
      "source": [
        "def is_nan(x):\n",
        "  return (x is np.nan or x != x)"
      ],
      "execution_count": 0,
      "outputs": []
    },
    {
      "cell_type": "markdown",
      "metadata": {
        "id": "RqJPaS6aftyF",
        "colab_type": "text"
      },
      "source": [
        "Next we define a function to plot the actual speed of any TMC ID with a given time window.\n",
        "\n",
        "The arguments are:\n",
        "\n",
        "tmc_num: TMC ID\n",
        "\n",
        "start_day_num: As we have only five days' data, this variable can vary from 0 to 4.\n",
        "\n",
        "end_day_num: As we have only five days' data, this variable can vary from 0 to 4 and is >= start_day_num\n",
        "\n",
        "start_hour: The hour from which we want to start plotting the data (varies between 0 to 24 (integer only))\n",
        "\n",
        "end_hour: The hour upto which we want to plot the data (varies between 0 to 24 (integer only))\n",
        "\n",
        "\n"
      ]
    },
    {
      "cell_type": "code",
      "metadata": {
        "id": "Kxg18KRMNfFq",
        "colab_type": "code",
        "colab": {}
      },
      "source": [
        "def plot_speed(tmc_num, start_day_num, end_day_num, start_hour, end_hour):\n",
        "  if (is_nan(fivedays_data[:,tmc_num])[0] == True):\n",
        "    print (\"We do not have data for that particular TMC. Please input any other TMC number.\")\n",
        "  else:\n",
        "    max_tmc_speed = maxspeed[tmc_num]\n",
        "    start_ind = start_day_num*144 + start_hour*6\n",
        "    end_ind = end_day_num*144 + end_hour*6\n",
        "    plt.plot(fivedays_data[start_ind:end_ind, tmc_num]*max_tmc_speed,'-*', color = 'black')\n",
        "    plt.xlabel('Time instance(10 minute interval)')\n",
        "    plt.ylabel('Speed')\n",
        "    plt.show()"
      ],
      "execution_count": 0,
      "outputs": []
    },
    {
      "cell_type": "markdown",
      "metadata": {
        "id": "ZS0QXhVXg3yE",
        "colab_type": "text"
      },
      "source": [
        "Example:\n",
        "\n",
        "Let's plot for TMC number 1 as stored in the array 'fti' from 9:00 a.m. on day 2 to 5:00 p.m. (17:00 hours) on day 3."
      ]
    },
    {
      "cell_type": "code",
      "metadata": {
        "id": "EeN_7cR9P9-e",
        "colab_type": "code",
        "colab": {
          "base_uri": "https://localhost:8080/",
          "height": 279
        },
        "outputId": "33d5b0de-8f02-484c-874f-3ec66676cca8"
      },
      "source": [
        "plot_speed(1,2,3, 9,17)"
      ],
      "execution_count": 42,
      "outputs": [
        {
          "output_type": "display_data",
          "data": {
            "image/png": "[encoded data removed]",
            "text/plain": [
              "<Figure size 432x288 with 1 Axes>"
            ]
          },
          "metadata": {
            "tags": []
          }
        }
      ]
    },
    {
      "cell_type": "markdown",
      "metadata": {
        "id": "8w-6bcoMSMIG",
        "colab_type": "text"
      },
      "source": [
        "### Find the average speed for the first 100 TMCs at 9:00 a.m. on January 1, 2018."
      ]
    },
    {
      "cell_type": "code",
      "metadata": {
        "id": "lj30PsWWQFgJ",
        "colab_type": "code",
        "colab": {
          "base_uri": "https://localhost:8080/",
          "height": 34
        },
        "outputId": "c10442f4-6dcc-44a6-c10e-4d57977c059d"
      },
      "source": [
        "slist = []\n",
        "tlist = []\n",
        "for i in range(100):\n",
        "  if (is_nan(fivedays_data[:,i])[0] == False):\n",
        "    slist.append(fivedays_data[9*6, i]*maxspeed[i])\n",
        "    tlist.append(i)\n",
        "avg_speed = np.mean(slist)\n",
        "print (\"The average speed for the first 100 TMCs at 9:00 a.m. on January 1, 2018.\", avg_speed, \"MPH\")\n"
      ],
      "execution_count": 78,
      "outputs": [
        {
          "output_type": "stream",
          "text": [
            "The average speed for the first 100 TMCs at 9:00 a.m. on January 1, 2018. 44.89252597666613 MPH\n"
          ],
          "name": "stdout"
        }
      ]
    },
    {
      "cell_type": "markdown",
      "metadata": {
        "id": "yfGp-vUIhf13",
        "colab_type": "text"
      },
      "source": [
        "Let's plot those 100 TMCs"
      ]
    },
    {
      "cell_type": "code",
      "metadata": {
        "id": "cyRTtRvRSKuC",
        "colab_type": "code",
        "colab": {
          "base_uri": "https://localhost:8080/",
          "height": 889
        },
        "outputId": "1a254c02-8432-4d77-9310-ab59ef20a31a"
      },
      "source": [
        "aa=fti[0:100]\n",
        "plot_tmc_ids(aa)"
      ],
      "execution_count": 72,
      "outputs": [
        {
          "output_type": "execute_result",
          "data": {
            "text/html": [
              "<div style=\"width:100%;\"><div style=\"position:relative;width:100%;height:0;padding-bottom:60%;\"><iframe src=\"data:text/html;charset=utf-8;base64,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\" style=\"position:absolute;width:100%;height:100%;left:0;top:0;border:none !important;\" allowfullscreen webkitallowfullscreen mozallowfullscreen></iframe></div></div>"
            ],
            "text/plain": [
              "<folium.folium.Map at 0x7f3271d75630>"
            ]
          },
          "metadata": {
            "tags": []
          },
          "execution_count": 72
        }
      ]
    },
    {
      "cell_type": "markdown",
      "metadata": {
        "id": "IpY-UToDhmMF",
        "colab_type": "text"
      },
      "source": [
        "Let's find out which one of them had the highest speed at 9:00 a.m. on January 1, 2018 (day 1 in our case)"
      ]
    },
    {
      "cell_type": "code",
      "metadata": {
        "id": "R7JDLr-UWqLZ",
        "colab_type": "code",
        "colab": {
          "base_uri": "https://localhost:8080/",
          "height": 889
        },
        "outputId": "c81110ab-a67e-4196-fc7e-b5b0e9848f47"
      },
      "source": [
        "highest_speed_tmc = tlist[np.argmax(slist)]\n",
        "plot_tmc_ids([fti[highest_speed_tmc]])"
      ],
      "execution_count": 70,
      "outputs": [
        {
          "output_type": "execute_result",
          "data": {
            "text/html": [
              "<div style=\"width:100%;\"><div style=\"position:relative;width:100%;height:0;padding-bottom:60%;\"><iframe src=\"data:text/html;charset=utf-8;base64,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\" style=\"position:absolute;width:100%;height:100%;left:0;top:0;border:none !important;\" allowfullscreen webkitallowfullscreen mozallowfullscreen></iframe></div></div>"
            ],
            "text/plain": [
              "<folium.folium.Map at 0x7f32735ff4a8>"
            ]
          },
          "metadata": {
            "tags": []
          },
          "execution_count": 70
        }
      ]
    },
    {
      "cell_type": "markdown",
      "metadata": {
        "id": "IA-34jNNh0U8",
        "colab_type": "text"
      },
      "source": [
        "We see that's an interstate. This particular road segment had the highest speed at that particular time among the 100 TMCs we considered."
      ]
    }
  ]
}